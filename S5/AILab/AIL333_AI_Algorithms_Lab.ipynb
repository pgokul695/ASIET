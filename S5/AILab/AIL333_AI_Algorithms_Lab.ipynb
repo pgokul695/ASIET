{
  "nbformat": 4,
  "nbformat_minor": 0,
  "metadata": {
    "colab": {
      "provenance": []
    },
    "kernelspec": {
      "name": "python3",
      "display_name": "Python 3"
    },
    "language_info": {
      "name": "python"
    }
  },
  "cells": [
    {
      "cell_type": "markdown",
      "source": [
        "# **AI Programs**"
      ],
      "metadata": {
        "id": "NZmXBSATgTsO"
      }
    },
    {
      "cell_type": "markdown",
      "source": [
        "**Reading Graph** As an Input from User (For DFS,DLS,BFS,M-coloring)\n",
        "\n",
        "Substitute it in graph ={} part"
      ],
      "metadata": {
        "id": "D6h2N5WUajlU"
      }
    },
    {
      "cell_type": "code",
      "source": [
        "graph = {}\n",
        "nodes = input(\"Enter the nodes (Space Seperated)\").split()\n",
        "for i in range(len(nodes)):\n",
        "  neigbhour = input(f\"Enter the neigbhours of {nodes[i]} (Space Seperated)\").split()\n",
        "  graph[nodes[i]] = neigbhour\n",
        "print(graph)"
      ],
      "metadata": {
        "colab": {
          "base_uri": "https://localhost:8080/"
        },
        "id": "onfKPQ3Uav8V",
        "outputId": "d5abe7b7-2c8e-4537-8d3f-0b328a2d29b3"
      },
      "execution_count": null,
      "outputs": [
        {
          "output_type": "stream",
          "name": "stdout",
          "text": [
            "Enter the nodes (Space Seperated)A B C \n",
            "Enter the neigbhours of A (Space Seperated)B C\n",
            "Enter the neigbhours of B (Space Seperated)A\n",
            "Enter the neigbhours of C (Space Seperated)A\n",
            "{'A': ['B', 'C'], 'B': ['A'], 'C': ['A']}\n"
          ]
        }
      ]
    },
    {
      "cell_type": "markdown",
      "source": [
        "**Depth First Search**\n",
        "\n",
        "\n",
        "Algorithm\n",
        "\n",
        "\n",
        "```\n",
        "Step 1: Represent the graph using an adjacency list or dictionary structure.\n",
        "        Represent the start and goal in variables.\n",
        "\n",
        "Step 2: Define a recursive function dfs(node, goal, graph, visited).\n",
        "\n",
        "Step 3: Print the current node to show the traversal path.\n",
        "\n",
        "Step 4: Check if the current node is equal to the goal node.\n",
        "        If yes, print \"\\nGoal {goal} found in the graph.\" and return True.\n",
        "\n",
        "Step 5: Mark the current node as visited.\n",
        "\n",
        "Step 6: For each neighbor in graph[node]:\n",
        "          If the neighbor is not visited:\n",
        "             Call dfs(neighbor, goal, graph, visited) recursively.\n",
        "             If the recursive call returns True,\n",
        "                propagate True upward to stop further searching.\n",
        "\n",
        "Step 7: If no neighbor leads to the goal, return False.\n",
        "\n",
        "Step 8: Define a main section to accept user input for start and goal.\n",
        "        Print \"Traversal Path: \"\n",
        "        Call dfs(start, goal, graph, visited=set()).\n",
        "\n",
        "Step 9: If dfs returns False, print \"\\nGoal {goal} not found in the graph.\"\n",
        "\n",
        "Step 10: End the program.\n",
        "```\n",
        "\n"
      ],
      "metadata": {
        "id": "39F7QTISQR8a"
      }
    },
    {
      "cell_type": "code",
      "execution_count": null,
      "metadata": {
        "colab": {
          "base_uri": "https://localhost:8080/"
        },
        "id": "_c3s_2JbQLmY",
        "outputId": "fef49394-d361-4015-d06e-9c32f2e46da5"
      },
      "outputs": [
        {
          "output_type": "stream",
          "name": "stdout",
          "text": [
            "Graph: {'A': ['B', 'C'], 'B': ['D', 'E'], 'C': ['F'], 'D': ['G'], 'E': [], 'F': [], 'G': []}\n",
            "Enter the starting node: A\n",
            "Enter the goal node: G\n",
            "Traversal Path: A B D G \n",
            "Goal G found in the graph.\n"
          ]
        }
      ],
      "source": [
        "def dfs(node, goal, graph, visited):\n",
        "    # Print the current node to show traversal\n",
        "    print(node, end=' ')\n",
        "\n",
        "    # Check if goal is found\n",
        "    if node == goal:\n",
        "        print(f\"\\nGoal {goal} found in the graph.\")\n",
        "        return True\n",
        "\n",
        "    # Mark current node as visited\n",
        "    visited.add(node)\n",
        "\n",
        "    # Explore neighbors recursively\n",
        "    for neighbor in graph[node]:\n",
        "        if neighbor not in visited:\n",
        "            if dfs(neighbor, goal, graph, visited):\n",
        "                return True\n",
        "\n",
        "    # Goal not found down this path\n",
        "    return False\n",
        "\n",
        "\n",
        "# --- Driver Code ---\n",
        "graph = {\n",
        "    'A': ['B', 'C'],\n",
        "    'B': ['D', 'E'],\n",
        "    'C': ['F'],\n",
        "    'D': ['G'],\n",
        "    'E': [],\n",
        "    'F': [],\n",
        "    'G': []\n",
        "}\n",
        "\n",
        "print(\"Graph:\", graph)\n",
        "start = input(\"Enter the starting node: \")\n",
        "goal = input(\"Enter the goal node: \")\n",
        "\n",
        "print(\"Traversal Path: \", end='')\n",
        "if not dfs(start, goal, graph, set()):\n",
        "    print(f\"\\nGoal {goal} not found in the graph.\")"
      ]
    },
    {
      "cell_type": "markdown",
      "source": [
        "**Breadth First Search**\n",
        "\n",
        "\n",
        "\n",
        "```\n",
        "Step 1: Represent the graph using an adjacency list or dictionary structure.\n",
        "        Represent the start and goal in variables.\n",
        "\n",
        "Step 2: Define a function bfs(start, goal, graph).\n",
        "\n",
        "Step 3: Create a queue (e.g., collections.deque) and a visited set.\n",
        "\n",
        "Step 4: Enqueue the start node and add it to the visited set.\n",
        "\n",
        "Step 5: Start a loop that continues while the queue is not empty.\n",
        "\n",
        "  Step 6: Dequeue a node.\n",
        "\n",
        "  Step 7: Print the dequeued node to show the traversal path.\n",
        "\n",
        "  Step 8: Check if the current node is equal to the goal node.\n",
        "          If yes, print \"\\nGoal {goal} found in the graph.\" and return True.\n",
        "\n",
        "  Step 9: For each neighbor in graph[node]:\n",
        "            If the neighbor is not visited:\n",
        "              Add the neighbor to the visited set.\n",
        "              Enqueue the neighbor.\n",
        "\n",
        "Step 10: If the loop finishes (queue is empty), return False.\n",
        "\n",
        "Step 11: Define a main section to accept user input for start and goal.\n",
        "         Print \"Traversal Path: \"\n",
        "         Call bfs(start, goal, graph).\n",
        "\n",
        "Step 12: If bfs returns False, print \"\\nGoal {goal} not found in the graph.\"\n",
        "\n",
        "Step 13: End the program.\n",
        "```\n",
        "\n",
        "\n",
        "\n",
        "\n"
      ],
      "metadata": {
        "id": "1u-psYtzV04Z"
      }
    },
    {
      "cell_type": "code",
      "source": [
        "from collections import deque\n",
        "\n",
        "def bfs(start, goal, graph):\n",
        "    visited = set()\n",
        "    queue = deque()\n",
        "\n",
        "    # Add start node to queue and visited set\n",
        "    queue.append(start)\n",
        "    visited.add(start)\n",
        "\n",
        "    while queue:\n",
        "        # Dequeue a node and print it\n",
        "        node = queue.popleft()\n",
        "        print(node, end=' ')\n",
        "\n",
        "        # Check if goal is found\n",
        "        if node == goal:\n",
        "            print(f\"\\nGoal {goal} found in the graph.\")\n",
        "            return True\n",
        "\n",
        "        # Explore neighbors\n",
        "        for neighbor in graph[node]:\n",
        "            if neighbor not in visited:\n",
        "                visited.add(neighbor)\n",
        "                queue.append(neighbor)\n",
        "\n",
        "    # Goal not found after exploring all reachable nodes\n",
        "    return False\n",
        "\n",
        "\n",
        "# --- Driver Code ---\n",
        "graph = {\n",
        "    'A': ['B', 'C'],\n",
        "    'B': ['D', 'E'],\n",
        "    'C': ['F'],\n",
        "    'D': ['G'],\n",
        "    'E': [],\n",
        "    'F': [],\n",
        "    'G': []\n",
        "}\n",
        "\n",
        "print(\"Graph:\", graph)\n",
        "start = input(\"Enter the starting node: \")\n",
        "goal = input(\"Enter the goal node: \")\n",
        "\n",
        "print(\"Traversal Path: \", end='')\n",
        "if not bfs(start, goal, graph):\n",
        "    print(f\"\\nGoal {goal} not found in the graph.\")"
      ],
      "metadata": {
        "colab": {
          "base_uri": "https://localhost:8080/"
        },
        "id": "xDA6f7bbP1A-",
        "outputId": "462cdeaa-7d90-4518-f9db-d32ea4c73352"
      },
      "execution_count": null,
      "outputs": [
        {
          "output_type": "stream",
          "name": "stdout",
          "text": [
            "Graph: {'A': ['B', 'C'], 'B': ['D', 'E'], 'C': ['F'], 'D': ['G'], 'E': [], 'F': [], 'G': []}\n",
            "Enter the starting node: A\n",
            "Enter the goal node: G\n",
            "Traversal Path: A B C D E F G \n",
            "Goal G found in the graph.\n"
          ]
        }
      ]
    },
    {
      "cell_type": "markdown",
      "source": [
        "**Depth Limited Search**\n",
        "\n",
        "\n",
        "Algorithm\n",
        "```\n",
        "Step 1: Represent the graph using an adjacency list or dictionary structure.\n",
        "        Represent the start, goal, and depth limit in variables.\n",
        "\n",
        "Step 2: Define a recursive function dls(node, goal, graph, limit, visited).\n",
        "\n",
        "Step 3: Check if the current depth limit has been exceeded (limit < 0).\n",
        "        If yes, return False (stop further exploration).\n",
        "\n",
        "Step 4: Mark the current node as visited.\n",
        "\n",
        "Step 5: Print the current node to show the traversal path.\n",
        "\n",
        "Step 6: Check if the current node is equal to the goal node.\n",
        "        If yes, print \"\\nGoal {goal} found in the graph.\" and return True.\n",
        "\n",
        "Step 7: For each neighbor in graph[node]:\n",
        "          If the neighbor is not visited:\n",
        "             Call dls(neighbor, goal, graph, limit - 1, visited) recursively.\n",
        "             If the recursive call returns True,\n",
        "                propagate True upward to stop further searching.\n",
        "\n",
        "Step 8: If no neighbor leads to the goal (within the limit), return False.\n",
        "\n",
        "Step 9: Define a main section to accept user input for start, goal, and limit.\n",
        "        Print \"Traversal Path: \"\n",
        "        Call dls(start, goal, graph, limit, visited=set()).\n",
        "\n",
        "Step 10: If dls returns False, print \"\\nGoal {goal} not found within the given depth limit.\"\n",
        "\n",
        "Step 11: End the program.\n",
        "\n",
        "```\n",
        "\n",
        "*Changes from Depth First Search*\n",
        "\n",
        "\n",
        "```\n",
        "# Function has a new parameter 'limit'\n",
        "def dls(node, goal, graph, limit, visited):\n",
        "\n",
        "# Added in the Search Function for stopping the search when Limit is reached\n",
        "# This line is the new first step.\n",
        "    if limit < 0:\n",
        "        return False\n",
        "    \n",
        "    # ... (rest of the function: print, goal check, visited.add) ...\n",
        "\n",
        "# On each recursive call, reduce the limit by one\n",
        "    dls(neighbor, goal, graph, limit - 1, visited)\n",
        "\n",
        "# Added 'limit' as a user input\n",
        "limit = int(input(\"Enter the depth limit: \"))\n",
        "\n",
        "# Pass 'limit' in the main argument list\n",
        "if not dls(start, goal, graph, limit, set()):\n",
        "    # ... (updated failure message) ...\n",
        "```\n",
        "\n"
      ],
      "metadata": {
        "id": "ByiYBnuWMDtg"
      }
    },
    {
      "cell_type": "code",
      "source": [
        "def dls(node, goal, graph, limit, visited):\n",
        "    # Stop exploring if depth limit is reached\n",
        "    if limit < 0:\n",
        "        return False\n",
        "\n",
        "    # Mark current node as visited and print it\n",
        "    visited.add(node)\n",
        "    print(node, end=' ')\n",
        "\n",
        "    # Check if goal is found\n",
        "    if node == goal:\n",
        "        print(f\"\\nGoal {goal} found in the graph.\")\n",
        "        return True\n",
        "\n",
        "    # Explore neighbors recursively (depth-limited)\n",
        "    for neighbor in graph[node]:\n",
        "        if neighbor not in visited:\n",
        "            if dls(neighbor, goal, graph, limit - 1, visited):\n",
        "                return True\n",
        "\n",
        "    # Goal not found within this path or limit\n",
        "    return False\n",
        "\n",
        "\n",
        "# --- Driver Code ---\n",
        "graph = {\n",
        "    'A': ['B', 'C'],\n",
        "    'B': ['D', 'E'],\n",
        "    'C': ['F'],\n",
        "    'D': ['G'],\n",
        "    'E': [],\n",
        "    'F': [],\n",
        "    'G': []\n",
        "}\n",
        "\n",
        "print(\"Graph:\", graph)\n",
        "start = input(\"Enter the starting node: \")\n",
        "goal = input(\"Enter the goal node: \")\n",
        "limit = int(input(\"Enter the depth limit: \"))\n",
        "\n",
        "print(\"Traversal Path: \", end='')\n",
        "if not dls(start, goal, graph, limit, set()):\n",
        "    print(f\"\\nGoal {goal} not found within the given depth limit.\")"
      ],
      "metadata": {
        "colab": {
          "base_uri": "https://localhost:8080/"
        },
        "id": "awIzBH88UoNM",
        "outputId": "316d6f67-cd32-4064-98ea-54f6b06f040d"
      },
      "execution_count": null,
      "outputs": [
        {
          "output_type": "stream",
          "name": "stdout",
          "text": [
            "Graph: {'A': ['B', 'C'], 'B': ['D', 'E'], 'C': ['F'], 'D': ['G'], 'E': [], 'F': [], 'G': []}\n",
            "Enter the starting node: A\n",
            "Enter the goal node: G\n",
            "Enter the depth limit: 2\n",
            "Traversal Path: A B D E C F \n",
            "Goal G not found within the given depth limit.\n"
          ]
        }
      ]
    },
    {
      "cell_type": "markdown",
      "source": [
        "**Uniform Cost Search**\n",
        "*Without Input Handling*\n",
        "\n",
        "\n",
        "```\n",
        "1. Represent the graph using an adjacency list or dictionary structure.\n",
        "        Represent the start, goal in variables.\n",
        "2. Maintain a priority queue (called pq) to decide which node to visit next.\n",
        "3. Store items in the pq as a tuple: (cost_so_far, node, current_path_list).\n",
        "4. Add the start node to pq with a cost of 0 and a path list [start].\n",
        "5. Create a visited set to avoid expanding the same node multiple times.\n",
        "6. Loop as long as the pq is not empty:\n",
        "   6.1. Pop the item with the lowest cost from pq. This gives the current g (cost), node, and path.\n",
        "   6.2. If the node is the goal:\n",
        "        6.2.1. Print the path and the g (cost).\n",
        "        6.2.2. Return (the search is complete).\n",
        "   6.3. If the node has not been visited yet:\n",
        "        6.3.1. Add the node to the visited set.\n",
        "        6.3.2. For each neighbor (and its cost) of the current node:\n",
        "               6.3.2.1. Calculate the new cost to reach that neighbor: new_g = g + cost.\n",
        "               6.3.2.2. Create the new path by appending the neighbor: new_path = path + [neighbor].\n",
        "               6.3.2.3. Push the new tuple (new_g, neighbor, new_path) onto the pq.\n",
        "7. Stop.\n",
        "```\n",
        "\n"
      ],
      "metadata": {
        "id": "9XZ2zrWdX_7X"
      }
    },
    {
      "cell_type": "code",
      "source": [
        "import heapq\n",
        "\n",
        "# --- Input Data ---\n",
        "graph = {\n",
        "    'A': [('B', 1), ('C', 3)],\n",
        "    'B': [('D', 3), ('E', 1)],\n",
        "    'C': [('F', 5)],\n",
        "    'D': [],\n",
        "    'E': [('F', 2)],\n",
        "    'F': []\n",
        "}\n",
        "\n",
        "# --- UCS Function ---\n",
        "def ucs(start, goal):\n",
        "    # pq stores: (g_score, node, path_list)\n",
        "    pq = [(0, start, [start])]\n",
        "    visited = set()\n",
        "\n",
        "    while pq:\n",
        "        # Get the item with the lowest g_score\n",
        "        g, node, path = heapq.heappop(pq)\n",
        "\n",
        "        # If this is the goal, we are done\n",
        "        if node == goal:\n",
        "            print(\"Path:\", path, \"Cost:\", g)\n",
        "            return\n",
        "\n",
        "        # If we haven't visited this node, expand it\n",
        "        if node not in visited:\n",
        "            visited.add(node)\n",
        "\n",
        "            # Add all neighbors to the priority queue\n",
        "            for neighbor, cost in graph[node]:\n",
        "                new_g = g + cost\n",
        "                # We create a new path list for each neighbor\n",
        "                heapq.heappush(pq, (new_g, neighbor, path + [neighbor]))\n",
        "\n",
        "# --- Run the program ---\n",
        "ucs('A', 'F')"
      ],
      "metadata": {
        "colab": {
          "base_uri": "https://localhost:8080/"
        },
        "id": "PQmXGZS5YAPx",
        "outputId": "b66058ca-57af-460f-dcd6-a46e6cb371a5"
      },
      "execution_count": null,
      "outputs": [
        {
          "output_type": "stream",
          "name": "stdout",
          "text": [
            "Path: ['A', 'B', 'E', 'F'] Cost: 4\n"
          ]
        }
      ]
    },
    {
      "cell_type": "markdown",
      "source": [
        "**UCS** With Input Handling (Recomended)\n",
        "\n",
        "\n",
        "```\n",
        "1. Start.\n",
        "2. Build a graph (adjacency list) from the list of edges.\n",
        "3. Create an empty 'visited' set.\n",
        "4. Create an empty priority queue (priority_queue).\n",
        "5. Push the initial item onto the priority_queue: (0, start_node, [start_node]). This tuple represents (total_cost, node, path).\n",
        "6. Loop as long as the priority_queue is not empty:\n",
        "   6.1. Pop the item with the lowest total_cost from priority_queue. This gives current_cost, current_node, and current_path.\n",
        "   6.2. If current_node is already in the 'visited' set, continue (skip this iteration).\n",
        "   6.3. Add current_node to the 'visited' set.\n",
        "   6.4. If current_node is the goal_node:\n",
        "        6.4.1. Print the final current_path and current_cost.\n",
        "        6.4.2. Return (the search is complete).\n",
        "   6.5. For each neighbor (and its step_cost) of the current_node:\n",
        "        6.5.1. If neighbor is not in the 'visited' set:\n",
        "             6.5.1.1. Calculate the new cost to reach that neighbor: new_cost = current_cost + step_cost.\n",
        "             6.5.1.2. Create the new path by appending the neighbor: new_path = current_path + [neighbor].\n",
        "             6.5.1.3. Push the new tuple (new_cost, neighbor, new_path) onto the priority_queue.\n",
        "7. If the loop finishes (queue is empty) and the goal was not found, print \"No path exists\".\n",
        "8. Stop.\n",
        "```\n",
        "\n"
      ],
      "metadata": {
        "id": "9zO9fJs_ey8d"
      }
    },
    {
      "cell_type": "code",
      "source": [
        "import heapq\n",
        "\n",
        "def UCS(edges, start_node, goal_node):\n",
        "    # Build a graph (adjacency list) from the list of edges.\n",
        "    graph = {}\n",
        "    for from_node, to_node, cost in edges:\n",
        "        # Ensure the 'from' node is a key in the graph\n",
        "        if from_node not in graph:\n",
        "            graph[from_node] = []\n",
        "        # Ensure the 'to' node is a key (for nodes that might only be destinations)\n",
        "        if to_node not in graph:\n",
        "            graph[to_node] = []\n",
        "\n",
        "        # Add the directed edge with its cost\n",
        "        graph[from_node].append((to_node, cost))\n",
        "\n",
        "    # Create an empty 'visited' set to track explored nodes.\n",
        "    visited = set()\n",
        "\n",
        "    # Create an empty priority queue (min-heap).\n",
        "    # We will store tuples: (total_cost, node, path_list)\n",
        "    priority_queue = []\n",
        "\n",
        "    # Push the initial item onto the priority queue.\n",
        "    # The cost to reach the start_node from itself is 0.\n",
        "    heapq.heappush(priority_queue, (0, start_node, [start_node]))\n",
        "\n",
        "    # Loop as long as the priority_queue is not empty\n",
        "    while priority_queue:\n",
        "\n",
        "        # Pop the item with the lowest total_cost (this is the core of UCS)\n",
        "        current_cost, current_node, current_path = heapq.heappop(priority_queue)\n",
        "\n",
        "        # If we've already found a cheaper path to this node, skip it\n",
        "        if current_node in visited:\n",
        "            continue\n",
        "\n",
        "        # Mark the current node as visited\n",
        "        visited.add(current_node)\n",
        "\n",
        "        # Goal check: If this is the node we're looking for, we're done.\n",
        "        if current_node == goal_node:\n",
        "            print(f\"Path found, The final Cost: {current_cost}\")\n",
        "            print(\" \".join(map(str, current_path)))\n",
        "            return # Exit the function\n",
        "\n",
        "        # Iterate over all neighbors of the current node\n",
        "        for neighbor, step_cost in graph[current_node]:\n",
        "\n",
        "            # Only process neighbors that haven't been visited yet\n",
        "            if neighbor not in visited:\n",
        "\n",
        "                # Calculate the new total cost to reach this neighbor\n",
        "                new_cost = current_cost + step_cost\n",
        "\n",
        "                # Create the new path by appending the neighbor\n",
        "                new_path = current_path + [neighbor]\n",
        "\n",
        "                # Push the new state (cost, node, path) onto the priority queue\n",
        "                heapq.heappush(priority_queue, (new_cost, neighbor, new_path))\n",
        "\n",
        "    # If the loop finishes without returning, the goal was never reached\n",
        "    print(\"No path exists\")\n",
        "\n",
        "# --- Input handling ---\n",
        "num_edges = int(input('Enter the number of edges: '))\n",
        "edges = []\n",
        "print(\"Enter From To Cost for each edge (Space Separated): \")\n",
        "for _ in range(num_edges):\n",
        "    from_node, to_node, cost_str = input().split()\n",
        "    cost = int(cost_str)\n",
        "    edges.append((from_node, to_node, cost))  # Store edges as (from, to, cost)\n",
        "\n",
        "start_node = input(\"Enter the starting node: \")\n",
        "goal_node = input(\"Enter the goal node: \")\n",
        "\n",
        "# Call the UCS function\n",
        "UCS(edges, start_node, goal_node)"
      ],
      "metadata": {
        "colab": {
          "base_uri": "https://localhost:8080/"
        },
        "id": "TL9qho-ae8lJ",
        "outputId": "46982066-6e1f-4a7a-c5fd-40635592c49f"
      },
      "execution_count": null,
      "outputs": [
        {
          "output_type": "stream",
          "name": "stdout",
          "text": [
            "Enter the number of edges: 5\n",
            "Enter From To Cost for each edge (Space Separated): \n",
            "A B 3\n",
            "B C 1\n",
            "C D 2\n",
            "D G 1\n",
            "A C 2\n",
            "Enter the starting node: A\n",
            "Enter the goal node: D\n",
            "Path found, The final Cost: 4\n",
            "A C D\n"
          ]
        }
      ]
    },
    {
      "cell_type": "markdown",
      "source": [
        "A* Search *Without Input Handling*\n",
        "\n",
        "\n",
        "```\n",
        "1. Represent the graph using an adjacency list or dictionary structure.\n",
        "        Represent the start, goal  in variables.\n",
        "        Represent Heuristics in a Dictonary\n",
        "2. Maintain a priority queue (called pq) to decide which node to visit next.\n",
        "3. Store items in the pq as a tuple: (f_score, cost_so_far, node, current_path_list).\n",
        "4. Add the start node to pq with its initial f_score (the heuristic), a cost of 0, and a path list [start].\n",
        "5. Create a visited set to avoid processing the same node multiple times.\n",
        "6. Loop as long as the pq is not empty:\n",
        "   6.1. Pop the item with the lowest f_score from pq. This gives the current f, g (cost), node, and path.\n",
        "   6.2. If the node is the goal:\n",
        "        6.2.1. Print the path and the g (cost).\n",
        "        6.2.2. Return (the search is complete).\n",
        "   6.3. If the node has not been visited yet:\n",
        "        6.3.1. Add the node to the visited set.\n",
        "        6.3.2. For each neighbor (and its cost) of the current node:\n",
        "               6.3.2.1. Calculate the new cost to reach that neighbor: new_g = g + cost.\n",
        "               6.3.2.2. Calculate the neighbor's f_score: new_f = new_g + heuristic[neighbor].\n",
        "               6.3.2.3. Create the new path by appending the neighbor: new_path = path + [neighbor].\n",
        "               6.3.2.4. Push the new tuple (new_f, new_g, neighbor, new_path) onto the pq.\n",
        "7. Stop.\n",
        "```\n",
        "\n"
      ],
      "metadata": {
        "id": "EUkZNYqfWU76"
      }
    },
    {
      "cell_type": "code",
      "source": [
        "import heapq\n",
        "\n",
        "# --- A* Function ---\n",
        "def a_star(start, goal):\n",
        "    # pq stores: (f_score, g_score, node, path_list)\n",
        "    pq = [(heuristic[start], 0, start, [start])]\n",
        "    visited = set()\n",
        "\n",
        "    while pq:\n",
        "        # Get the item with the lowest f_score\n",
        "        f, g, node, path = heapq.heappop(pq)\n",
        "\n",
        "        # If this is the goal, we are done\n",
        "        if node == goal:\n",
        "            print(\"Path:\", path, \"Cost:\", g)\n",
        "            return\n",
        "\n",
        "        # If we haven't visited this node, expand it\n",
        "        if node not in visited:\n",
        "            visited.add(node)\n",
        "\n",
        "            # Add all neighbors to the priority queue\n",
        "            for neighbor, cost in graph[node]:\n",
        "                new_g = g + cost\n",
        "                new_f = new_g + heuristic[neighbor]\n",
        "                # We create a new path list for each neighbor\n",
        "                heapq.heappush(pq, (new_f, new_g, neighbor, path + [neighbor]))\n",
        "# --- Input Data ---\n",
        "graph = {\n",
        "    'A': [('B', 1), ('C', 3)],\n",
        "    'B': [('D', 3), ('E', 1)],\n",
        "    'C': [('F', 5)],\n",
        "    'D': [],\n",
        "    'E': [('F', 2)],\n",
        "    'F': []\n",
        "}\n",
        "heuristic = {'A': 7, 'B': 6, 'C': 2, 'D': 6, 'E': 1, 'F': 0}\n",
        "\n",
        "# --- Run the program ---\n",
        "a_star('A', 'F')"
      ],
      "metadata": {
        "id": "0jBHiNJ_WdRg"
      },
      "execution_count": null,
      "outputs": []
    },
    {
      "cell_type": "markdown",
      "source": [
        "**A*** With Input Handling (Recommented)\n",
        "\n",
        "\n",
        "\n",
        "```\n",
        "1. Start.\n",
        "2. Build a graph (adjacency list) from the list of edges.\n",
        "3. Create an empty 'visited' set.\n",
        "4. Create an empty priority queue (priority_queue).\n",
        "5. Push the initial item onto the priority_queue: (heuristics[start_node], 0, start_node, [start_node]). This tuple represents (f_score, g_score, node, path).\n",
        "6. Loop as long as the priority_queue is not empty:\n",
        "   6.1. Pop the item with the lowest f_score from priority_queue. This gives f_score, g_score, current_node, and current_path.\n",
        "   6.2. If current_node is already in the 'visited' set, continue (skip this iteration).\n",
        "   6.3. Add current_node to the 'visited' set.\n",
        "   6.4. If current_node is the goal_node:\n",
        "        6.4.1. Print the final current_path and g_score (cost).\n",
        "        6.4.2. Return (the search is complete).\n",
        "   6.5. For each neighbor (and its step_cost) of the current_node:\n",
        "        6.5.1. If neighbor is not in the 'visited' set:\n",
        "               6.5.1.1. Calculate the new cost to reach that neighbor: new_g_score = g_score + step_cost.\n",
        "               6.5.1.2. Get the neighbor's heuristic: h_score = heuristics[neighbor].\n",
        "               6.5.1.3. Calculate the neighbor's f_score: new_f_score = new_g_score + h_score.\n",
        "               6.5.1.4. Create the new path by appending the neighbor: new_path = current_path + [neighbor].\n",
        "               6.5.1.5. Push the new tuple (new_f_score, new_g_score, neighbor, new_path) onto the priority_queue.\n",
        "7. If the loop finishes (queue is empty) and the goal was not found, print \"No path exists\".\n",
        "8. Stop.\n",
        "```\n",
        "\n",
        "```\n",
        "--- Code Differences: UCS vs. A* ---\n",
        "\n",
        "1. Function Definition:\n",
        "   UCS: def UCS(edges, start_node, goal_node):\n",
        "   A*:  def a_star_search(edges, heuristics, start_node, goal_node):\n",
        "   (A* needs the 'heuristics' dictionary).\n",
        "\n",
        "2. Priority Queue Initialization:\n",
        "   UCS:\n",
        "       Pushes (g_score, node, path)\n",
        "       #g_score is the cost from the start.\n",
        "       heapq.heappush(priority_queue, (0, start_node, [start_node]))\n",
        "\n",
        "   A*:\n",
        "       Pushes (f_score, g_score, node, path)\n",
        "       g_score = 0 (cost from start)\n",
        "       f_score = g_score + h_score\n",
        "       initial_f_score = heuristics[start_node]\n",
        "       heapq.heappush(priority_queue, (initial_f_score, 0, start_node, [start_node]))\n",
        "\n",
        "3. Popping from the Queue:\n",
        "   UCS:\n",
        "       Pops g_score, node, path\n",
        "       current_cost, current_node, current_path = heapq.heappop(priority_queue)\n",
        "\n",
        "   A*:\n",
        "       Pops f_score, g_score, node, path\n",
        "       f_score, g_score, current_node, current_path = heapq.heappop(priority_queue)\n",
        "\n",
        "4. Goal Check:\n",
        "   UCS:\n",
        "       The cost is the first item popped (current_cost)\n",
        "       print(f\"Path found, The final Cost: {current_cost}\")\n",
        "\n",
        "   A*:\n",
        "       The cost is the *second* item popped (g_score),\n",
        "       as f_score includes the heuristic.\n",
        "       print(f\"Path found, The final Cost: {g_score}\")\n",
        "\n",
        "5. Neighbor Processing Loop:\n",
        "   UCS:\n",
        "       for neighbor, step_cost in graph[current_node]:\n",
        "           if neighbor not in visited:\n",
        "               new_cost = current_cost + step_cost\n",
        "               new_path = current_path + [neighbor]\n",
        "               Pushes (g_score, node, path)\n",
        "               heapq.heappush(priority_queue, (new_cost, neighbor, new_path))\n",
        "\n",
        "   A*:\n",
        "       for neighbor, step_cost in graph[current_node]:\n",
        "           if neighbor not in visited:\n",
        "               #Calculate new g_score\n",
        "               new_g_score = g_score + step_cost\n",
        "               \n",
        "               #Get heuristic for the neighbor\n",
        "               h_score = heuristics[neighbor]\n",
        "               \n",
        "               #Calculate new f_score\n",
        "               new_f_score = new_g_score + h_score\n",
        "               \n",
        "               new_path = current_path + [neighbor]\n",
        "               \n",
        "               Pushes (f_score, g_score, node, path)\n",
        "               heapq.heappush(priority_queue, (new_f_score, new_g_score, neighbor, new_path))\n",
        "\n",
        "6. Main Function Call:\n",
        "   UCS:\n",
        "       UCS(edges, start_node, goal_node)\n",
        "\n",
        "   A*:\n",
        "       #Must also pass the heuristics\n",
        "       a_star_search(edges, heuristics, start_node, goal_node)\n",
        "```"
      ],
      "metadata": {
        "id": "-4a6afvyd0JS"
      }
    },
    {
      "cell_type": "code",
      "source": [
        "import heapq\n",
        "\n",
        "def a_star_search(edges, heuristics, start_node, goal_node):\n",
        "    # Step 2: Build a graph (adjacency list) from the list of edges.\n",
        "    graph = {}\n",
        "    for from_node, to_node, cost in edges:\n",
        "        if from_node not in graph:\n",
        "            graph[from_node] = []\n",
        "        if to_node not in graph:\n",
        "            graph[to_node] = []\n",
        "    for from_node, to_node, cost in edges:\n",
        "        graph[from_node].append((to_node, cost))  # Add edge with cost\n",
        "\n",
        "    # Step 3: Create an empty 'visited' set.\n",
        "    visited = set()\n",
        "\n",
        "    # Step 4: Create an empty priority queue (pq).\n",
        "    priority_queue = []\n",
        "\n",
        "    # Step 5: Push the initial item onto the pq.\n",
        "    # Tuple is (f_score, g_score, node, path)\n",
        "    # f_score = g_score (0) + heuristic[start_node]\n",
        "    initial_f_score = heuristics[start_node]\n",
        "    heapq.heappush(priority_queue, (initial_f_score, 0, start_node, [start_node]))\n",
        "\n",
        "    # Step 6: Loop as long as the pq is not empty:\n",
        "    while priority_queue:\n",
        "\n",
        "        # Step 6.1: Pop the item with the lowest f_score from pq.\n",
        "        f_score, g_score, current_node, current_path = heapq.heappop(priority_queue)\n",
        "\n",
        "        # Step 6.2: If node is already in the 'visited' set, continue.\n",
        "        if current_node in visited:\n",
        "            continue\n",
        "\n",
        "        # Step 6.3: Add node to the 'visited' set.\n",
        "        visited.add(current_node)\n",
        "\n",
        "        # Step 6.4: If node is the goal:\n",
        "        if current_node == goal_node:\n",
        "            # 6.4.1. Print the final path and g (cost).\n",
        "            print(f\"Path found, The final Cost: {g_score}\")\n",
        "            print(\" \".join(map(str, current_path)))\n",
        "            # 6.4.2. Return (the search is complete).\n",
        "            return\n",
        "\n",
        "        # Step 6.5: For each neighbor (and its cost) of the current node:\n",
        "        for neighbor, step_cost in graph[current_node]:\n",
        "\n",
        "            # Step 6.5.1: If neighbor is not in the 'visited' set:\n",
        "            if neighbor not in visited:\n",
        "\n",
        "                # 6.5.1.1. Calculate new g_score: new_g = g + cost.\n",
        "                new_g_score = g_score + step_cost\n",
        "\n",
        "                # 6.5.1.2. Get neighbor's heuristic: h = heuristic[neighbor].\n",
        "                h_score = heuristics[neighbor]\n",
        "\n",
        "                # 6.5.1.3. Calculate neighbor's f_score: new_f = new_g + h.\n",
        "                new_f_score = new_g_score + h_score\n",
        "\n",
        "                # 6.5.1.4. Create the new path.\n",
        "                new_path = current_path + [neighbor]\n",
        "\n",
        "                # 6.5.1.5. Push the new tuple onto the pq.\n",
        "                heapq.heappush(priority_queue, (new_f_score, new_g_score, neighbor, new_path))\n",
        "\n",
        "    # Step 7: If the loop finishes, no path was found.\n",
        "    print(\"No path exists\")\n",
        "    # Step 8: Stop.\n",
        "\n",
        "# --- Input handling ---\n",
        "num_nodes = int(input('Enter the number of nodes: '))\n",
        "heuristics = {}\n",
        "print(\"Enter the name and Heuristics of each node (Space Separated):\")\n",
        "for _ in range(num_nodes):\n",
        "    node_name, h_value_str = input().split()\n",
        "    h_value = int(h_value_str)\n",
        "    heuristics[node_name] = h_value  # Store heuristic in a dictionary\n",
        "\n",
        "num_edges = int(input('Enter the number of edges: '))\n",
        "edges = []\n",
        "print(\"Enter From To Cost for each edge (Space Separated): \")\n",
        "for _ in range(num_edges):\n",
        "    from_node, to_node, cost_str = input().split()\n",
        "    cost = int(cost_str)\n",
        "    edges.append((from_node, to_node, cost))  # Store edges as (from, to, cost)\n",
        "\n",
        "start_node = input(\"Enter the starting node: \")\n",
        "goal_node = input(\"Enter the goal node: \")\n",
        "\n",
        "# Call the A* function\n",
        "a_star_search(edges, heuristics, start_node, goal_node)"
      ],
      "metadata": {
        "colab": {
          "base_uri": "https://localhost:8080/"
        },
        "id": "wFSRYe5Jdzbl",
        "outputId": "14f441bd-e2c2-481b-c0ad-87d4d4864c82"
      },
      "execution_count": null,
      "outputs": [
        {
          "output_type": "stream",
          "name": "stdout",
          "text": [
            "Enter the number of nodes: 4\n",
            "Enter the name and Heuristics of each node (Space Separated):\n",
            "A 6\n",
            "B 4\n",
            "C 3\n",
            "D 0\n",
            "Enter the number of edges: 6\n",
            "Enter From To Cost for each edge (Space Separated): \n",
            "A B 3\n",
            "B C 1\n",
            "C D 3\n",
            "A C 3\n",
            "B D 5\n",
            "B C 1\n",
            "Enter the starting node: A\n",
            "Enter the goal node: D\n",
            "Path found, The final Cost: 6\n",
            "A C D\n"
          ]
        }
      ]
    },
    {
      "cell_type": "markdown",
      "source": [
        "**Travelling Salesman Problem**\n",
        "\n",
        "\n",
        "\n",
        "```\n",
        "1. Represent the cities as a graph using a distance matrix (or dictionary) to store the cost between each pair of cities.\n",
        "2. Define a starting city.\n",
        "3. Generate all possible permutations (all possible orderings) of the *other* cities.\n",
        "4. For each permutation:\n",
        "   4.1. Create a complete tour (path) by adding the start city to the beginning and end of the permutation.\n",
        "   4.2. Calculate the total cost of this tour by summing the distances between each adjacent city in the path.\n",
        "   4.3. Check if this tour's cost is the lowest one found so far.\n",
        "5. After checking all permutations, return the path and cost of the minimum-cost tour found.\n",
        "6. Stop.\n",
        "```\n",
        "\n"
      ],
      "metadata": {
        "id": "mzZNxURAY2Or"
      }
    },
    {
      "cell_type": "code",
      "source": [
        "from itertools import permutations\n",
        "\n",
        "# --- Input Data ---\n",
        "# Distance matrix represented as a dictionary\n",
        "dist = {\n",
        "    ('A','B'): 10, ('A','C'): 15, ('A','D'): 20,\n",
        "    ('B','A'): 10, ('B','C'): 35, ('B','D'): 25,\n",
        "    ('C','A'): 15, ('C','B'): 35, ('C','D'): 30,\n",
        "    ('D','A'): 20, ('D','B'): 25, ('D','C'): 30\n",
        "}\n",
        "\n",
        "cities = ['A', 'B', 'C', 'D'] #(For Input Handling)variable 'nodes', cities = nodes\n",
        "start = 'A' #(for Input Handling) Read A start city from user, start = input()\n",
        "\n",
        "# --- Brute Force Logic ---\n",
        "min_cost = float('inf')\n",
        "best_path = []\n",
        "\n",
        "# Generate permutations for all cities *except* the start city\n",
        "other_cities = [c for c in cities if c != start]\n",
        "\n",
        "for perm in permutations(other_cities):\n",
        "    # Create the full path: Start -> Permutation -> Start\n",
        "    path = [start] + list(perm) + [start]\n",
        "    cost = 0\n",
        "\n",
        "    # Calculate the cost for this specific path\n",
        "    for i in range(len(path) - 1):\n",
        "        cost += dist[(path[i], path[i+1])]\n",
        "\n",
        "    # Update if this is the new best path\n",
        "    if cost < min_cost:\n",
        "        min_cost = cost\n",
        "        best_path = path\n",
        "\n",
        "# --- Print the result ---\n",
        "print(\"Best Path:\", best_path)\n",
        "print(\"Minimum Cost:\", min_cost)"
      ],
      "metadata": {
        "colab": {
          "base_uri": "https://localhost:8080/"
        },
        "id": "J3xvKFW1Y2eg",
        "outputId": "9e181533-cac2-4a24-e75b-52f8155cb5af"
      },
      "execution_count": null,
      "outputs": [
        {
          "output_type": "stream",
          "name": "stdout",
          "text": [
            "Best Path: ['A', 'B', 'D', 'C', 'A']\n",
            "Minimum Cost: 80\n"
          ]
        }
      ]
    },
    {
      "cell_type": "markdown",
      "source": [
        "**TSP** With Input Handling (Recomended)\n",
        "\n",
        "\n",
        "```\n",
        "1. Represent the cities and edges by reading a list of city names and a list of directional edges (From, To, Cost) into a distance dictionary.\n",
        "2. Define a starting city.\n",
        "3. Initialize MinCost to infinity and BestPath to []. Generate all possible permutations (all possible orderings) of the *other* cities.\n",
        "4. For each permutation:\n",
        "   4.1. Create a complete tour (path) by adding the start city to the beginning and end of the permutation.\n",
        "   4.2. Initialize CurrentCost = 0 and set a flag IsPossible = True.\n",
        "   4.3. Loop through each segment of the tour (e.g., from CityA to CityB):\n",
        "       4.3.1. Check if the segment (CityA, CityB) exists in the distance dictionary.\n",
        "       4.3.2. If it does not exist: Set IsPossible = False and break (stop checking this path).\n",
        "       4.3.3. If it does exist: Add its cost to CurrentCost.\n",
        "   4.4. After the loop, check if IsPossible is True AND if CurrentCost < MinCost.\n",
        "   4.5. If both are true, set MinCost = CurrentCost and BestPath = CurrentPath.\n",
        "5. After checking all permutations, check the final value of MinCost.\n",
        "6. If MinCost is still infinity, print a message that no complete tour was found. Otherwise, print the BestPath and MinCost. Stop.\n",
        "```\n",
        "\n"
      ],
      "metadata": {
        "id": "8OpB0UVVa53o"
      }
    },
    {
      "cell_type": "code",
      "source": [
        "from itertools import permutations\n",
        "\n",
        "# --- 1. Simplified Input Handler ---\n",
        "\n",
        "# Get city names and infer the number of nodes\n",
        "cities_input = input('Enter all city names (space-separated): ')\n",
        "cities = cities_input.split()\n",
        "\n",
        "num_edges = int(input('Enter the number of edges: '))\n",
        "print(\"Enter From To Cost for each edge (Space Separated): \")\n",
        "\n",
        "# --- 2. Convert Edge List to 'dist' Dictionary ---\n",
        "dist = {}\n",
        "for _ in range(num_edges):\n",
        "    from_node, to_node, cost_str = input().split()\n",
        "    cost = int(cost_str)\n",
        "    dist[(from_node, to_node)] = cost # Build the dictionary directly\n",
        "\n",
        "# --- 3. Get Start City ---\n",
        "start = input(f\"\\nEnter the starting city: \")\n",
        "\n",
        "print(\"\\n--- Calculating Shortest Path (Brute Force) ---\")\n",
        "\n",
        "min_cost = float('inf')\n",
        "best_path = []\n",
        "\n",
        "# Generate permutations for all cities *except* the start city\n",
        "other_cities = [c for c in cities if c != start]\n",
        "\n",
        "for perm in permutations(other_cities):\n",
        "    # Create the full path: Start -> Permutation -> Start\n",
        "    path = [start] + list(perm) + [start]\n",
        "    cost = 0\n",
        "\n",
        "    # Calculate the cost for this specific path\n",
        "    for i in range(len(path) - 1):\n",
        "      segment = (path[i], path[i+1])\n",
        "      if segment not in dist:\n",
        "            cost = float('inf')\n",
        "            break\n",
        "      cost += dist[segment]\n",
        "    # Update if this is the new best path\n",
        "    if cost < min_cost:\n",
        "        min_cost = cost\n",
        "        best_path = path\n",
        "\n",
        "# --- 5. Print the result ---\n",
        "if min_cost == float('inf'):\n",
        "    print(f\"No complete tour was possible from '{start}' with the given edges.\")\n",
        "else:\n",
        "  print(\"Best Path:\", \" -> \".join(best_path))\n",
        "  print(\"Minimum Cost:\", min_cost)"
      ],
      "metadata": {
        "colab": {
          "base_uri": "https://localhost:8080/"
        },
        "id": "BbQxfiUXa5dF",
        "outputId": "b71d31c7-2ba6-4355-b37c-f105d1157fb7"
      },
      "execution_count": null,
      "outputs": [
        {
          "output_type": "stream",
          "name": "stdout",
          "text": [
            "Enter all city names (space-separated): A B C D\n",
            "Enter the number of edges: 7\n",
            "Enter From To Cost for each edge (Space Separated): \n",
            "A B 2\n",
            "A C 1\n",
            "C D 4\n",
            "C B 1\n",
            "B D 2\n",
            "D A 1\n",
            "B A 3\n",
            "\n",
            "Enter the starting city: A\n",
            "\n",
            "--- Calculating Shortest Path (Brute Force) ---\n",
            "Best Path: A -> C -> B -> D -> A\n",
            "Minimum Cost: 5\n"
          ]
        }
      ]
    },
    {
      "cell_type": "markdown",
      "source": [
        "**Map Coloring Problem**\n",
        "\n",
        "```\n",
        "1. Initialize\n",
        "   a. Let assignment be a dictionary storing the color of each node (initially 0 = uncolored).\n",
        "   b. Let nodes be the list of vertices in the graph.\n",
        "2. Define a Recursive Function graph_coloring(index)\n",
        "   a. If index == len(nodes) (all vertices are colored), return True.\n",
        "   b. Else, select the current vertex: node = nodes[index].\n",
        "3. Try All Colors (1 to m)\n",
        "   a. For each color c from 1 to m:\n",
        "      a. Check if c is safe for this node using is_safe() (The is_safe function checks if any adjacent vertices already have color c).\n",
        "      b. If it is safe:\n",
        "         i. Assign assignment[node] = c.\n",
        "         ii. Recursively call graph_coloring(index + 1).\n",
        "         iii. If the recursive call returns True, a solution is found, so return True.\n",
        "         iv. Otherwise, backtrack: reset assignment[node] = 0.\n",
        "4. Return False\n",
        "   a. If the loop finishes and no color works for the current node, return False.\n",
        "5. Define Driver Function solve_map_coloring(graph, m)\n",
        "   a. Start the recursion with graph_coloring(0).\n",
        "   b. If it returns True, print the final color assignment.\n",
        "   c. If it returns False, print \"No solution exists with m colors\".\n",
        "```\n",
        "\n"
      ],
      "metadata": {
        "id": "VKXrg1_-ZbMH"
      }
    },
    {
      "cell_type": "code",
      "source": [
        "# M-Coloring Problem on a dictionary-based graph\n",
        "\n",
        "def is_safe(node, color, assignment, graph):\n",
        "    \"\"\"\n",
        "    Check if it's safe to color a node with a given color.\n",
        "    This function handles graphs where edges might only be listed one-way.\n",
        "    \"\"\"\n",
        "    # Check neighbors listed in graph[node]\n",
        "    for neighbor in graph[node]:\n",
        "        if neighbor in assignment and assignment[neighbor] == color:\n",
        "            return False\n",
        "\n",
        "    # Check nodes that might point *to* this node (for undirected cases)\n",
        "    for other in graph:\n",
        "        if node in graph[other] and assignment.get(other) == color:\n",
        "            return False\n",
        "\n",
        "    return True\n",
        "\n",
        "def graph_coloring(nodes, graph, m, assignment, index=0):\n",
        "    \"\"\"\n",
        "    Recursive backtracking function to solve coloring.\n",
        "    \"\"\"\n",
        "    # Base case: All nodes have been processed\n",
        "    if index == len(nodes):\n",
        "        return True\n",
        "\n",
        "    node = nodes[index]\n",
        "\n",
        "    # Try assigning each color from 1 to m\n",
        "    for color in range(1, m + 1):\n",
        "        if is_safe(node, color, assignment, graph):\n",
        "            # Assign the color\n",
        "            assignment[node] = color\n",
        "\n",
        "            # Recurse for the next node\n",
        "            if graph_coloring(nodes, graph, m, assignment, index + 1):\n",
        "                return True\n",
        "\n",
        "            # Backtrack if the recursive call failed\n",
        "            assignment[node] = 0\n",
        "\n",
        "    return False\n",
        "\n",
        "def solve_map_coloring(graph, m):\n",
        "    \"\"\"\n",
        "    Main driver function to set up and solve the problem.\n",
        "    \"\"\"\n",
        "    nodes = list(graph.keys())\n",
        "    assignment = {node: 0 for node in nodes} # 0 = uncolored\n",
        "\n",
        "    if not graph_coloring(nodes, graph, m, assignment):\n",
        "        print(f\"No solution exists with {m} colors.\")\n",
        "        return None\n",
        "\n",
        "    print(\"Solution exists: Coloring of vertices is\")\n",
        "    for node in nodes:\n",
        "        print(f\"Vertex {node} --> Color {assignment[node]}\")\n",
        "    return assignment\n",
        "\n",
        "# -------------------\n",
        "# Example\n",
        "graph = {\n",
        "    'A': ['B', 'C'],\n",
        "    'B': ['D', 'E'],\n",
        "    'C': ['F'],\n",
        "    'D': [],\n",
        "    'E': ['F'],\n",
        "    'F': []\n",
        "}\n",
        "\n",
        "m = int(input(\"Number of colors: \"))\n",
        "solve_map_coloring(graph, m)"
      ],
      "metadata": {
        "colab": {
          "base_uri": "https://localhost:8080/"
        },
        "id": "ndIqpjfKZsJO",
        "outputId": "06235fdd-c6aa-45e9-b010-01ee5040bdd0"
      },
      "execution_count": null,
      "outputs": [
        {
          "output_type": "stream",
          "name": "stdout",
          "text": [
            "Number of colors: 3\n",
            "Solution exists: Coloring of vertices is\n",
            "Vertex A --> Color 1\n",
            "Vertex B --> Color 2\n",
            "Vertex C --> Color 2\n",
            "Vertex D --> Color 1\n",
            "Vertex E --> Color 1\n",
            "Vertex F --> Color 3\n"
          ]
        },
        {
          "output_type": "execute_result",
          "data": {
            "text/plain": [
              "{'A': 1, 'B': 2, 'C': 2, 'D': 1, 'E': 1, 'F': 3}"
            ]
          },
          "metadata": {},
          "execution_count": 25
        }
      ]
    },
    {
      "cell_type": "markdown",
      "source": [
        "# **Python Programs**"
      ],
      "metadata": {
        "id": "bRVf5aKPhYGS"
      }
    },
    {
      "cell_type": "markdown",
      "source": [
        "**Fibonaci Series**\n",
        "\n",
        "\n",
        "\n",
        "```\n",
        "1. Input: Get the number of terms (n) to generate.\n",
        "2. Initialize: Set the first two numbers:\n",
        "   a = 0\n",
        "   b = 1\n",
        "3. Print \"Fibonacci Series: \".\n",
        "4. Loop: Repeat n times:\n",
        "   - Print the current value of a.\n",
        "   - Calculate the next term: The new 'a' will be the current 'b', and the new 'b' will be the sum of the current 'a' and 'b'.\n",
        "5. End: The loop finishes after printing n terms.\n",
        "```\n",
        "\n"
      ],
      "metadata": {
        "id": "1NdAVSadhbB5"
      }
    },
    {
      "cell_type": "code",
      "source": [
        "n = int(input(\"Enter number of terms: \"))\n",
        "a, b = 0, 1\n",
        "print(\"Fibonacci Series:\", end=\" \")\n",
        "for _ in range(n):\n",
        "    print(a, end=\" \")\n",
        "    a, b = b, a + b\n",
        "print()"
      ],
      "metadata": {
        "colab": {
          "base_uri": "https://localhost:8080/"
        },
        "id": "0ClYzDdZiHas",
        "outputId": "a9700149-b626-444c-f7ff-8d114de6ace0"
      },
      "execution_count": null,
      "outputs": [
        {
          "output_type": "stream",
          "name": "stdout",
          "text": [
            "Enter number of terms: 10\n",
            "Fibonacci Series: 0 1 1 2 3 5 8 13 21 34 \n"
          ]
        }
      ]
    },
    {
      "cell_type": "markdown",
      "source": [
        "**Armstrong Number**\n",
        "\n",
        "\n",
        "\n",
        "```\n",
        "1. Input: Get an integer from the user (store it in 'num').\n",
        "2. Initialize Sum: Create a variable 'sum' and set it to 0.\n",
        "3. Copy Number: Create a temporary variable 'temp' and set it equal to 'num'.\n",
        "4. Start Loop: Start a loop that continues as long as 'temp' is greater than 0.\n",
        "5. Extract Digit: Inside the loop, get the last digit of 'temp' (using temp % 10) and store it in 'digit'.\n",
        "6. Calculate Cube: Calculate the cube of the 'digit' (digit ** 3).\n",
        "7. Add to Sum: Add this cubed value to the 'sum'.\n",
        "8. Remove Digit: Remove the last digit from 'temp' (using integer division, temp //= 10).\n",
        "9. End Loop: The loop repeats from step 5 until 'temp' becomes 0.\n",
        "10. Compare: After the loop, compare the original 'num' with the final 'sum'.\n",
        "11. Output:\n",
        "    - If 'num' is equal to 'sum', print that it is an Armstrong number.\n",
        "    - Otherwise, print that it is not an Armstrong number.\n",
        "```\n",
        "\n"
      ],
      "metadata": {
        "id": "4CanGQ-vimmM"
      }
    },
    {
      "cell_type": "code",
      "source": [
        "num = int(input(\"Enter a number: \"))\n",
        "sum = 0\n",
        "temp = num\n",
        "while temp > 0:\n",
        "   digit = temp % 10\n",
        "   sum += digit ** 3\n",
        "   temp //= 10\n",
        "\n",
        "if num == sum:\n",
        "   print(f\"{num} is an Armstrong number\")\n",
        "else:\n",
        "   print(f\"{num} is not an Armstrong number\")"
      ],
      "metadata": {
        "colab": {
          "base_uri": "https://localhost:8080/"
        },
        "id": "6TzwhbyLixZD",
        "outputId": "25f26384-9602-43b0-ca6f-4d76b77ef4e8"
      },
      "execution_count": null,
      "outputs": [
        {
          "output_type": "stream",
          "name": "stdout",
          "text": [
            "Enter a number: 200\n",
            "200 is not an Armstrong number\n"
          ]
        }
      ]
    },
    {
      "cell_type": "markdown",
      "source": [
        "**Sum Of Digits** (Similar to Armstrong)\n",
        "\n",
        "\n",
        "\n",
        "```\n",
        "1. Input: Get an integer from the user (store it in 'num').\n",
        "2. Initialize Sum: Create a variable 'sum' and set it to 0.\n",
        "3. Copy Number: Create a temporary variable 'temp' and set it equal to 'num' (to preserve the original number).\n",
        "4. Start Loop: Start a loop that continues as long as 'temp' is greater than 0.\n",
        "5. Extract Digit: Inside the loop, get the last digit of 'temp' (using temp % 10).\n",
        "6. Add to Sum: Add this digit to the 'sum' (using sum += ...).\n",
        "7. Remove Digit: Remove the last digit from 'temp' (using integer division, temp //= 10).\n",
        "8. End Loop: The loop repeats from step 5 until 'temp' becomes 0.\n",
        "9. Output: After the loop, print the final 'sum' along with the original 'num'.\n",
        "```\n",
        "\n"
      ],
      "metadata": {
        "id": "EMZHNEDejMDW"
      }
    },
    {
      "cell_type": "code",
      "source": [
        "num = int(input(\"Enter a number: \"))\n",
        "sum = 0\n",
        "temp = num\n",
        "while temp > 0:\n",
        "   sum += temp % 10\n",
        "   temp //= 10\n",
        "print(f\"Sum of digits of {num} is {sum}\")"
      ],
      "metadata": {
        "colab": {
          "base_uri": "https://localhost:8080/"
        },
        "id": "SbojKZFWjXwb",
        "outputId": "9f2b957a-3384-4939-a4ae-5b4f7eab397c"
      },
      "execution_count": null,
      "outputs": [
        {
          "output_type": "stream",
          "name": "stdout",
          "text": [
            "Enter a number: 200\n",
            "Sum of digits of 200 is 2\n"
          ]
        }
      ]
    },
    {
      "cell_type": "markdown",
      "source": [
        "Palindrome (String)\n",
        "\n",
        "\n",
        "```\n",
        "1. Input: Get the input from the user (store it in 'original_string').\n",
        "2. Reverse: Create a new string 'reversed_string' by reversing the 'original_string' (e.g., using slicing [::-1]).\n",
        "3. Compare: Check if 'original_string' is exactly equal to 'reversed_string'.\n",
        "4. Output:\n",
        "    - If they are equal, print that it is a palindrome.\n",
        "    - Otherwise, print that it is not a palindrome.\n",
        "```\n",
        "\n"
      ],
      "metadata": {
        "id": "ftOTSUz6kA9O"
      }
    },
    {
      "cell_type": "code",
      "source": [
        "# Get the input as a string\n",
        "num_str = input(\"Enter a String: \")\n",
        "\n",
        "# Reverse the string using slicing\n",
        "reversed_str = num_str[::-1]\n",
        "\n",
        "# Compare the original string with the reversed one\n",
        "if num_str == reversed_str:\n",
        "    print(f\"{num_str} is a palindrome\")\n",
        "else:\n",
        "    print(f\"{num_str} is not a palindrome\")"
      ],
      "metadata": {
        "colab": {
          "base_uri": "https://localhost:8080/"
        },
        "id": "xlGkrIuGkDXh",
        "outputId": "24c1b40d-c1a3-43a0-8db0-a8883ed0dcc6"
      },
      "execution_count": null,
      "outputs": [
        {
          "output_type": "stream",
          "name": "stdout",
          "text": [
            "Enter a String: Hello\n",
            "Hello is not a palindrome\n"
          ]
        }
      ]
    },
    {
      "cell_type": "markdown",
      "source": [
        "**Palindrome (Number)** (Similar to armstrong) [Do it when explicitly asked for a number else above one works fine]\n",
        "\n",
        "\n",
        "\n",
        "```\n",
        "Algorithm for Palindrome Number Check\n",
        "\n",
        "1. Input: Get an integer from the user (store it in 'num').\n",
        "2. Initialize Reverse: Create a variable 'reverse_num' and set it to 0.\n",
        "3. Copy Number: Create a temporary variable 'temp' and set it equal to 'num'.\n",
        "4. Start Loop: Start a loop that continues as long as 'temp' is greater than 0.\n",
        "5. Extract Digit: Inside the loop, get the last digit of 'temp' (using temp % 10).\n",
        "6. Build Reverse: Multiply 'reverse_num' by 10 and add the extracted 'digit' to it. (reverse_num = (reverse_num * 10) + digit).\n",
        "7. Remove Digit: Remove the last digit from 'temp' (using integer division, temp //= 10).\n",
        "8. End Loop: The loop repeats from step 5 until 'temp' becomes 0.\n",
        "9. Compare: After the loop, compare the original 'num' with the final 'reverse_num'.\n",
        "10. Output:\n",
        "    - If 'num' is equal to 'reverse_num', print that it is a palindrome.\n",
        "    - Otherwise, print that it is not a palindrome.\n",
        "```\n",
        "\n"
      ],
      "metadata": {
        "id": "oUPv1YmhkE6j"
      }
    },
    {
      "cell_type": "code",
      "source": [
        "num = int(input(\"Enter a number: \"))\n",
        "temp = num\n",
        "reverse_num = 0\n",
        "\n",
        "while temp > 0:\n",
        "    digit = temp % 10\n",
        "    reverse_num = (reverse_num * 10) + digit\n",
        "    temp //= 10\n",
        "\n",
        "if num == reverse_num:\n",
        "    print(f\"{num} is a palindrome\")\n",
        "else:\n",
        "    print(f\"{num} is not a palindrome\")"
      ],
      "metadata": {
        "colab": {
          "base_uri": "https://localhost:8080/"
        },
        "id": "SUr1MfJIkKWB",
        "outputId": "8b71037a-58f9-4e3a-b6f0-db662d37fa1e"
      },
      "execution_count": null,
      "outputs": [
        {
          "output_type": "stream",
          "name": "stdout",
          "text": [
            "Enter a number: 121\n",
            "121 is a palindrome\n"
          ]
        }
      ]
    },
    {
      "cell_type": "markdown",
      "source": [
        "**Factorial Of a Number**\n",
        "\n",
        "\n",
        "```\n",
        "1. Input: Get an integer from the user (store it in 'num').\n",
        "2. Initialize Factorial: Create a variable 'factorial' and set it to 1.\n",
        "3. Check for Negative:\n",
        "   - If 'num' is less than 0, print an error message (e.g., \"Factorial does not exist for negative numbers\").\n",
        "4. Calculate Factorial (if 0 or positive):\n",
        "   - If 'num' is 0 or greater:\n",
        "   - Start a loop that counts from 1 up to 'num' (inclusive). (If 'num' is 0, this loop will not run).\n",
        "   - Inside the loop, multiply 'factorial' by the current loop number (factorial = factorial * i).\n",
        "   - After the loop finishes, print the final 'factorial' value.\n",
        "```\n",
        "\n"
      ],
      "metadata": {
        "id": "2M3UaSiWkpgc"
      }
    },
    {
      "cell_type": "code",
      "source": [
        "num = int(input(\"Enter a number: \"))\n",
        "factorial = 1\n",
        "\n",
        "# Check for negative numbers\n",
        "if num < 0:\n",
        "   print(\"factorial does not exist for negative numbers\")\n",
        "else:\n",
        "   for i in range(1, num + 1):\n",
        "       factorial = factorial * i\n",
        "   print(f\"The factorial of {num} is {factorial}\")"
      ],
      "metadata": {
        "colab": {
          "base_uri": "https://localhost:8080/"
        },
        "id": "QembU3ZLkpGn",
        "outputId": "1dbf0159-cb8e-4666-8a08-931d4d5bbeb5"
      },
      "execution_count": null,
      "outputs": [
        {
          "output_type": "stream",
          "name": "stdout",
          "text": [
            "Enter a number: 5\n",
            "The factorial of 5 is 120\n"
          ]
        }
      ]
    },
    {
      "cell_type": "markdown",
      "source": [
        "**Union and Intersection of two lists**\n",
        "\n",
        "\n",
        "\n",
        "```\n",
        "1. Input: Define two lists, 'list1' and 'list2'.\n",
        "2. Convert to Sets: Convert 'list1' to 'set1' and 'list2' to 'set2'. Sets automatically handle duplicates.\n",
        "3. Calculate Intersection:\n",
        "   - Find the elements present in BOTH 'set1' AND 'set2'.\n",
        "   - Store this result (e.g., in 'intersection_list').\n",
        "4. Calculate Union:\n",
        "   - Find all unique elements from 'set1' OR 'set2'.\n",
        "   - Store this result (e.g., in 'union_list').\n",
        "5. Output: Print the original lists, the intersection list, and the union list.\n",
        "```\n",
        "\n"
      ],
      "metadata": {
        "id": "cHZiJ7TDlZbv"
      }
    },
    {
      "cell_type": "code",
      "source": [
        "# 1. Input: Define two lists\n",
        "list1 = input(\"Enter the first list (space-separated): \").split()\n",
        "list2 = input(\"Enter the second list (space-separated): \").split()\n",
        "\n",
        "\n",
        "print(f\"List 1: {list1}\")\n",
        "print(f\"List 2: {list2}\")\n",
        "\n",
        "# 2. Convert to Sets\n",
        "set1 = set(list1)\n",
        "set2 = set(list2)\n",
        "\n",
        "# 3. Calculate Intersection (using the '&' operator)\n",
        "intersection_list = list(set1 & set2)\n",
        "\n",
        "# 4. Calculate Union (using the '|' operator)\n",
        "union_list = list(set1 | set2)\n",
        "\n",
        "# 5. Output\n",
        "print(f\"Intersection: {intersection_list}\")\n",
        "print(f\"Union: {union_list}\")"
      ],
      "metadata": {
        "colab": {
          "base_uri": "https://localhost:8080/"
        },
        "id": "etbN7YJQlyAI",
        "outputId": "f489da84-fb5a-42a7-cfb8-f3893fa76f32"
      },
      "execution_count": null,
      "outputs": [
        {
          "output_type": "stream",
          "name": "stdout",
          "text": [
            "Enter the first list (space-separated): 1 2 3\n",
            "Enter the second list (space-separated): 3 4 5\n",
            "List 1: ['1', '2', '3']\n",
            "List 2: ['3', '4', '5']\n",
            "Intersection: ['3']\n",
            "Union: ['4', '1', '3', '2', '5']\n"
          ]
        }
      ]
    },
    {
      "cell_type": "markdown",
      "source": [
        "**Most Frequent word in a file**\n",
        "\n",
        "\n",
        "```\n",
        "1. Input: Get the file name from the user (e.g., 'sample.txt').\n",
        "2. Initialize: Create an empty dictionary called 'word_count'.\n",
        "3. Read File:\n",
        "   - Open the specified file in read mode.\n",
        "   - Read the entire content.\n",
        "   - Convert the entire content to lowercase.\n",
        "   - Split the content into a 'text' list of words.\n",
        "4. Count Words:\n",
        "   - Loop through each 'word' in the 'text' list.\n",
        "   - For each 'word', increment its count in the 'word_count' dictionary. (If the word is not in the dictionary, .get(word, 0) will return 0, and the count will be set to 1).\n",
        "5. Find Max:\n",
        "   - After the loop, find the key (word) in 'word_count' that has the maximum value (count). Store this word in 'most_freq'.\n",
        "6. Output: Print the 'most_freq' word and its count (which is found using word_count[most_freq]).\n",
        "```\n",
        "\n"
      ],
      "metadata": {
        "id": "4wcRekRTl8ZF"
      }
    },
    {
      "cell_type": "code",
      "source": [
        "#File Writing (Optional )\n",
        "#creating sample.txt for Checking Most Frequent word in a file\n",
        "# This script creates a text file named 'sample.txt' with predefined content.\n",
        "\n",
        "# The content to be written to the file.\n",
        "file_content = \"\"\"hello world this is a test file\n",
        "the world is a beautiful place\n",
        "and hello again to this wonderful world\n",
        "test test test\n",
        "world hello test\"\"\"\n",
        "\n",
        "# Open the file in write mode ('w') and write the content.\n",
        "# If the file doesn't exist, it will be created. If it exists, it will be overwritten.\n",
        "with open('sample.txt', 'w') as f:\n",
        "    f.write(file_content)\n",
        "\n",
        "print(\"File 'sample.txt' has been created successfully in your Colab environment.\")"
      ],
      "metadata": {
        "colab": {
          "base_uri": "https://localhost:8080/"
        },
        "id": "JYhgWnjgoDUj",
        "outputId": "d2247eb4-5149-42f8-84b1-e6a4ebd0598d"
      },
      "execution_count": null,
      "outputs": [
        {
          "output_type": "stream",
          "name": "stdout",
          "text": [
            "File 'sample.txt' has been created successfully in your Colab environment.\n"
          ]
        }
      ]
    },
    {
      "cell_type": "code",
      "source": [
        "filename = input(\"Enter file name : \")\n",
        "#try-except block optional\n",
        "try:\n",
        "    with open(filename, 'r') as f:\n",
        "        # Read, convert to lowercase, and split all at once\n",
        "        text = f.read().lower().split()\n",
        "\n",
        "    word_count = {}\n",
        "\n",
        "    # Count each word\n",
        "    for word in text:\n",
        "        word_count[word] = word_count.get(word, 0) + 1\n",
        "\n",
        "    # Find the most frequent word\n",
        "    if word_count: # Check if the dictionary is not empty\n",
        "        most_freq = max(word_count, key=word_count.get)\n",
        "        print(f\"Most frequent word: '{most_freq}' appearing {word_count[most_freq]} times\")\n",
        "    else:\n",
        "        print(f\"The file '{filename}' is empty or contains no words.\")\n",
        "\n",
        "except FileNotFoundError:\n",
        "    print(f\"Error: The file '{filename}' was not found.\")"
      ],
      "metadata": {
        "colab": {
          "base_uri": "https://localhost:8080/"
        },
        "id": "hyPuYZTOl77m",
        "outputId": "522c19f6-d0b9-4dc5-e4ff-5eece7a8544d"
      },
      "execution_count": null,
      "outputs": [
        {
          "output_type": "stream",
          "name": "stdout",
          "text": [
            "Enter file name : sample.txt\n",
            "Most frequent word: 'test' appearing 5 times\n"
          ]
        }
      ]
    },
    {
      "cell_type": "markdown",
      "source": [
        "**Count the occurance of each word in a sentance**\n",
        "\n",
        "\n",
        "```\n",
        "1. Input: Get a sentence (string) from the user.\n",
        "2. Process Input:\n",
        "   - Convert the entire sentence to lowercase.\n",
        "   - Split the lowercase sentence into a list of words.\n",
        "3. Initialize: Create an empty dictionary called 'count' to store word frequencies.\n",
        "4. Loop: Iterate through each 'word' in the list of words.\n",
        "5. Count: Inside the loop, increment the count for that 'word' in the 'count' dictionary.\n",
        "   (Use `count.get(word, 0) + 1` to get the current count (or 0 if it's a new word) and add 1).\n",
        "6. Output: After the loop finishes, print the final 'count' dictionary.\n",
        "```\n",
        "\n"
      ],
      "metadata": {
        "id": "-Mj9M17anVnZ"
      }
    },
    {
      "cell_type": "code",
      "source": [
        "sentence = input(\"Enter a sentence: \").lower().split()\n",
        "count = {}\n",
        "\n",
        "for word in sentence:\n",
        "    count[word] = count.get(word, 0) + 1\n",
        "\n",
        "print(\"Word occurrences:\", count)"
      ],
      "metadata": {
        "colab": {
          "base_uri": "https://localhost:8080/"
        },
        "id": "2ZJ65XKtnZ4A",
        "outputId": "56c08b73-08d0-4d6a-8b5b-7b17f076a13a"
      },
      "execution_count": null,
      "outputs": [
        {
          "output_type": "stream",
          "name": "stdout",
          "text": [
            "Enter a sentence: Hello World Hello World\n",
            "Word occurrences: {'hello': 2, 'world': 2}\n"
          ]
        }
      ]
    },
    {
      "cell_type": "markdown",
      "source": [
        "**Prime or Not**\n",
        "\n",
        "\n",
        "\n",
        "```\n",
        "1. Input: Get an integer from the user (store it in 'num').\n",
        "2. Check Edge Case (<= 1):\n",
        "   - If 'num' is less than or equal to 1, it is not prime. Print the result and stop.\n",
        "3. Handle Main Case (> 1):\n",
        "   - If 'num' is greater than 1:\n",
        "   - Start a loop that counts 'i' from 2 up to 'num - 1'.\n",
        "   - Inside the loop, check if 'num' is divisible by 'i' (num % i == 0).\n",
        "   - If it is divisible:\n",
        "     - Print that 'num' is not a prime number.\n",
        "     - 'break' (exit) the loop immediately.\n",
        "   - (Python 'else' for a loop): If the loop finishes completely without finding any divisors (without 'break'-ing):\n",
        "     - Print that 'num' is a prime number.\n",
        "```\n",
        "\n"
      ],
      "metadata": {
        "id": "auR5e6YkniLb"
      }
    },
    {
      "cell_type": "code",
      "source": [
        "num = int(input(\"Enter a number: \"))\n",
        "\n",
        "# Prime numbers must be greater than 1\n",
        "if num <= 1:\n",
        "   print(f\"{num} is not a prime number\")\n",
        "else:\n",
        "   # Start loop to check for divisors\n",
        "   for i in range(2, num):\n",
        "       if (num % i) == 0:\n",
        "           # Found a divisor\n",
        "           print(f\"{num} is not a prime number\")\n",
        "           break\n",
        "   else:\n",
        "       # Loop finished without finding any divisors\n",
        "       print(f\"{num} is a prime number\")"
      ],
      "metadata": {
        "colab": {
          "base_uri": "https://localhost:8080/"
        },
        "id": "SFvCT4Jjnw--",
        "outputId": "a22c861f-15dd-44db-cc10-561e6c5e0f5c"
      },
      "execution_count": null,
      "outputs": [
        {
          "output_type": "stream",
          "name": "stdout",
          "text": [
            "Enter a number: 190\n",
            "190 is not a prime number\n"
          ]
        }
      ]
    },
    {
      "cell_type": "markdown",
      "source": [
        "**Extra Programs** (Optional)"
      ],
      "metadata": {
        "id": "4yWPqLhIzC3Y"
      }
    },
    {
      "cell_type": "code",
      "source": [
        "# Matrix Multiplication\n",
        "R1 = int(input(\"Enter the number of rows for the first matrix: \"))\n",
        "C1 = int(input(\"Enter the number of columns for the first matrix: \"))\n",
        "\n",
        "R2 = int(input(\"Enter the number of rows for the second matrix: \"))\n",
        "C2 = int(input(\"Enter the number of columns for the second matrix: \"))\n",
        "\n",
        "if C1 != R2:\n",
        "    print(\"Matrix multiplication is not possible. Column of first matrix must be same as row of second matrix.\")\n",
        "else:\n",
        "    print(\"Enter elements for the first matrix:\")\n",
        "    matrix1 = []\n",
        "    for i in range(R1):\n",
        "        row = list(map(int, input().split()))\n",
        "        matrix1.append(row)\n",
        "\n",
        "    print(\"Enter elements for the second matrix:\")\n",
        "    matrix2 = []\n",
        "    for i in range(R2):\n",
        "        row = list(map(int, input().split()))\n",
        "        matrix2.append(row)\n",
        "\n",
        "    result = [[0 for _ in range(C2)] for _ in range(R1)]\n",
        "\n",
        "    for i in range(R1):\n",
        "        for j in range(C2):\n",
        "            for k in range(C1):\n",
        "                result[i][j] += matrix1[i][k] * matrix2[k][j]\n",
        "\n",
        "    print(\"\\nResult of Matrix Multiplication:\")\n",
        "    for row in result:\n",
        "        print(\" \".join(map(str, row)))"
      ],
      "metadata": {
        "id": "Obq4xuIQzG7l"
      },
      "execution_count": null,
      "outputs": []
    },
    {
      "cell_type": "code",
      "source": [
        "# Matrix Transpose\n",
        "\n",
        "# Get matrix dimensions\n",
        "R = int(input(\"Enter the number of rows: \"))\n",
        "C = int(input(\"Enter the number of columns: \"))\n",
        "\n",
        "# Get matrix elements\n",
        "print(\"Enter elements for the matrix (row by row):\")\n",
        "matrix = []\n",
        "for i in range(R):\n",
        "    row = list(map(int, input().split()))\n",
        "    matrix.append(row)\n",
        "\n",
        "# Create an empty result matrix with swapped dimensions (C rows, R columns)\n",
        "transpose = [[0 for _ in range(R)] for _ in range(C)]\n",
        "\n",
        "# Perform the transpose\n",
        "# Iterate through the original matrix\n",
        "for i in range(R):\n",
        "    for j in range(C):\n",
        "        # Assign the element to the swapped position in the new matrix\n",
        "        transpose[j][i] = matrix[i][j]\n",
        "\n",
        "# Print the transposed matrix\n",
        "print(\"\\nTransposed Matrix:\")\n",
        "for row in transpose:\n",
        "    print(\" \".join(map(str, row)))"
      ],
      "metadata": {
        "id": "2l27EH8S2QK7"
      },
      "execution_count": null,
      "outputs": []
    }
  ]
}