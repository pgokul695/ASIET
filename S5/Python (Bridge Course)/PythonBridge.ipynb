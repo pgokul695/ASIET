{
 "cells": [
  {
   "cell_type": "markdown",
   "metadata": {
    "id": "DilqBP_cGy_S"
   },
   "source": [
    "Simple code to print Hello world"
   ]
  },
  {
   "cell_type": "code",
   "execution_count": null,
   "metadata": {
    "id": "42spI78nGwPi"
   },
   "outputs": [],
   "source": [
    "print(\"Hello World\")"
   ]
  },
  {
   "cell_type": "markdown",
   "metadata": {
    "id": "mDDNov7hG2fi"
   },
   "source": [
    "Code to read input name and age from user and print it"
   ]
  },
  {
   "cell_type": "code",
   "execution_count": null,
   "metadata": {
    "colab": {
     "base_uri": "https://localhost:8080/"
    },
    "id": "l7uc4_BOF1BV",
    "outputId": "5bd5604b-e748-406c-d4fb-645ef090e1d3"
   },
   "outputs": [
    {
     "name": "stdout",
     "output_type": "stream",
     "text": [
      "Enter your name: Gokul P\n",
      "Enter your age : 19\n",
      "Your name is Gokul P and your age is 19\n"
     ]
    }
   ],
   "source": [
    "x = input(\"Enter your name: \");\n",
    "y = int(input(\"Enter your age : \"));\n",
    "print(f\"Your name is {x} and your age is {y}\");"
   ]
  },
  {
   "cell_type": "markdown",
   "metadata": {
    "id": "anPy6J0_G58c"
   },
   "source": [
    "Swap two numbers"
   ]
  },
  {
   "cell_type": "code",
   "execution_count": null,
   "metadata": {
    "colab": {
     "base_uri": "https://localhost:8080/"
    },
    "id": "fe3OWe5lGuIq",
    "outputId": "84d426a0-c61a-46bb-c992-2c0580b44b34"
   },
   "outputs": [
    {
     "name": "stdout",
     "output_type": "stream",
     "text": [
      "Enter value for x1\n",
      "Enter value for y2\n",
      "Before swap: Value of x 1 and y 2\n",
      "After swap: Value of x 2 and y 1\n"
     ]
    }
   ],
   "source": [
    "x= int(input(\"Enter value for x : \"));\n",
    "y= int(input(\"Enter value for y : \"));\n",
    "print(f\"Before swap: Value of x {x} and y {y}\");\n",
    "x,y=y,x;\n",
    "print(f\"After swap: Value of x {x} and y {y}\");"
   ]
  },
  {
   "cell_type": "markdown",
   "metadata": {
    "id": "G3OwfUl0GvIZ"
   },
   "source": [
    "Type casting"
   ]
  },
  {
   "cell_type": "code",
   "execution_count": null,
   "metadata": {
    "colab": {
     "base_uri": "https://localhost:8080/"
    },
    "id": "QaZ8wR7mGfMi",
    "outputId": "89a8a556-9ed7-4ec1-c3c8-d2cc082a9c3e"
   },
   "outputs": [
    {
     "name": "stdout",
     "output_type": "stream",
     "text": [
      "Enter a integer12\n",
      "Datatype <class 'int'>, value 12\n",
      "Datatype <class 'str'>, value 12\n"
     ]
    }
   ],
   "source": [
    "x= int(input(\"Enter a integer\"));\n",
    "print(f\"Datatype {type(x)}, value {x}\");\n",
    "x=str(x);\n",
    "print(f\"Datatype {type(x)}, value {x}\");"
   ]
  },
  {
   "cell_type": "markdown",
   "metadata": {
    "id": "Xjkiply9J2_7"
   },
   "source": [
    "Find area of a circle"
   ]
  },
  {
   "cell_type": "code",
   "execution_count": null,
   "metadata": {
    "colab": {
     "base_uri": "https://localhost:8080/"
    },
    "id": "M5OrMH8FJ3ZW",
    "outputId": "c93401f3-3bc2-49f2-a470-397e73c6f08e"
   },
   "outputs": [
    {
     "name": "stdout",
     "output_type": "stream",
     "text": [
      "Enter the radius12\n",
      "Area of inputed circle is 452.3893421169302\n"
     ]
    }
   ],
   "source": [
    "import math\n",
    "x= float(input(\"Enter the radius: \"));\n",
    "y=(math.pi*x*x);\n",
    "print(f\"Area of inputed circle is {y}\");"
   ]
  },
  {
   "cell_type": "markdown",
   "metadata": {
    "id": "9d8MhCz7Ktwb"
   },
   "source": [
    "Convert celcius to farheinheit"
   ]
  },
  {
   "cell_type": "code",
   "execution_count": null,
   "metadata": {
    "colab": {
     "base_uri": "https://localhost:8080/"
    },
    "id": "T-DZ5O_qKvuL",
    "outputId": "89401430-c242-4ea1-acf3-9104e2a2abaa"
   },
   "outputs": [
    {
     "name": "stdout",
     "output_type": "stream",
     "text": [
      "Enter Temparature in celcius30\n",
      "Temparature in Celcius: 30.0, Fareinheit: 86.0\n"
     ]
    }
   ],
   "source": [
    "c=float(input(\"Enter Temparature in celcius\"));\n",
    "f=(c*(9/5)+32);\n",
    "print(f\"Temparature in Celcius: {c}, Fareinheit: {f}\");"
   ]
  },
  {
   "cell_type": "markdown",
   "metadata": {
    "id": "WfIia6pJNGyd"
   },
   "source": [
    "Sum of two numbers"
   ]
  },
  {
   "cell_type": "code",
   "execution_count": null,
   "metadata": {
    "colab": {
     "base_uri": "https://localhost:8080/"
    },
    "id": "q6GW3E42NIgE",
    "outputId": "570d82d7-c305-4fca-ef79-b00ce804976c"
   },
   "outputs": [
    {
     "name": "stdout",
     "output_type": "stream",
     "text": [
      "Enter the first number :20\n",
      "Enter the second number : 30\n",
      "Sum of 20.0 + 30.0 = 50.0\n"
     ]
    }
   ],
   "source": [
    "x=float(input(\"Enter the first number :\"));\n",
    "y=float(input(\"Enter the second number : 3\"));\n",
    "print(f\"Sum of {x} + {y} = {x+y}\");\n"
   ]
  },
  {
   "cell_type": "markdown",
   "metadata": {
    "id": "QbWwKz4vNimQ"
   },
   "source": [
    "Variable types"
   ]
  },
  {
   "cell_type": "code",
   "execution_count": null,
   "metadata": {
    "colab": {
     "base_uri": "https://localhost:8080/"
    },
    "id": "0KpAOOK4NjAt",
    "outputId": "3e75f322-b88e-4f5f-b188-9ebd1c0c1fd7"
   },
   "outputs": [
    {
     "name": "stdout",
     "output_type": "stream",
     "text": [
      "enter an integer1\n",
      "Enter a floatubf point number.2\n",
      "Enter a stringhello\n",
      "Type of 1 : <class 'int'> \n",
      "Type of 0.2 : <class 'float'> \n",
      "Type of hello : <class 'str'>\n"
     ]
    }
   ],
   "source": [
    "x=int(input(\"enter an integer\"));\n",
    "y=float(input(\"Enter a floatubf point number\"));\n",
    "z=input(\"Enter a string\");\n",
    "print(f\"Type of {x} : {type(x)} \\nType of {y} : {type(y)} \\nType of {z} : {type(z)}\");"
   ]
  },
  {
   "cell_type": "markdown",
   "metadata": {
    "id": "fowZtLFmPAFX"
   },
   "source": [
    "Reading two values at the same time using split()"
   ]
  },
  {
   "cell_type": "code",
   "execution_count": null,
   "metadata": {
    "colab": {
     "base_uri": "https://localhost:8080/"
    },
    "id": "CJA5EDIjPAKI",
    "outputId": "189e20dc-e8a6-44c8-fd83-3667722183a6"
   },
   "outputs": [
    {
     "name": "stdout",
     "output_type": "stream",
     "text": [
      "Enter name and age (Space Seperated)hello 123\n",
      "Your name is hello, age is 123\n"
     ]
    }
   ],
   "source": [
    "name,age =input(\"Enter name and age (Space Seperated)\").split();\n",
    "print(f\"Your name is {name}, age is {age}\");"
   ]
  },
  {
   "cell_type": "markdown",
   "metadata": {
    "id": "gtBs2w2SQGyq"
   },
   "source": [
    "Calculating Simple intrest"
   ]
  },
  {
   "cell_type": "code",
   "execution_count": null,
   "metadata": {
    "colab": {
     "base_uri": "https://localhost:8080/"
    },
    "id": "6WmCZHc3QHup",
    "outputId": "61fa6a93-5e5c-4dc9-b9bb-c1fa0d1d4f8c"
   },
   "outputs": [
    {
     "name": "stdout",
     "output_type": "stream",
     "text": [
      "Enter the principal amount : 100\n",
      "Enter the intrest rate : 2\n",
      "Enter the duration(In years) : 4\n",
      "Simple Intrest is : 8.0\n"
     ]
    }
   ],
   "source": [
    "p=float(input(\"Enter the principal amount : \"))\n",
    "r=float(input(\"Enter the intrest rate : \"))\n",
    "t=float(input(\"Enter the duration(In years) : \"))\n",
    "print(f\"Simple Intrest is : {((p*r*t) / 100)}\")"
   ]
  },
  {
   "cell_type": "markdown",
   "metadata": {
    "id": "3x_b1gPtSeCm"
   },
   "source": [
    "Calculate area of a rectangle"
   ]
  },
  {
   "cell_type": "code",
   "execution_count": null,
   "metadata": {
    "colab": {
     "base_uri": "https://localhost:8080/"
    },
    "id": "fhm2zjzNShmV",
    "outputId": "719ee394-3b24-4683-897e-d756fcb4b5fe"
   },
   "outputs": [
    {
     "name": "stdout",
     "output_type": "stream",
     "text": [
      "Enter the length of the rectangle :10 \n",
      "Enter the width of the rectangle : 20\n",
      "Area of rectangle is : 200.0\n"
     ]
    }
   ],
   "source": [
    "l=float(input(\"Enter the length of the rectangle :\"));\n",
    "w = float(input(\"Enter the width of the rectangle : \"));\n",
    "print(f\"Area of rectangle is : {l*w}\");"
   ]
  },
  {
   "cell_type": "markdown",
   "metadata": {
    "id": "L5KOeG9IS9k-"
   },
   "source": [
    "Convert kilometers to miles"
   ]
  },
  {
   "cell_type": "code",
   "execution_count": null,
   "metadata": {
    "colab": {
     "base_uri": "https://localhost:8080/"
    },
    "id": "v5s5nOavTBi3",
    "outputId": "511dd891-c35d-44a2-c380-0e4243e3725c"
   },
   "outputs": [
    {
     "name": "stdout",
     "output_type": "stream",
     "text": [
      "Enter distance in kilometers100\n",
      "Distance in Kilometers 100.0 , in miles 62.0\n"
     ]
    }
   ],
   "source": [
    "km=float(input(\"Enter distance in kilometers\"));\n",
    "print(f\"Distance in Kilometers {km} , in miles {km*0.62}\")"
   ]
  },
  {
   "cell_type": "markdown",
   "metadata": {
    "id": "TYVDturlTgmw"
   },
   "source": [
    "Display ASCII value of a character"
   ]
  },
  {
   "cell_type": "code",
   "execution_count": null,
   "metadata": {
    "colab": {
     "base_uri": "https://localhost:8080/"
    },
    "id": "KAiHZxvKTkVo",
    "outputId": "0dd8082b-c7f1-4dc7-eb49-103f6244d3cb"
   },
   "outputs": [
    {
     "name": "stdout",
     "output_type": "stream",
     "text": [
      "Enter a characterA\n",
      "ASCII value of A is 65\n"
     ]
    }
   ],
   "source": [
    "c=input(\"Enter a character\");\n",
    "print(f\"ASCII value of {c} is {ord(c)}\");"
   ]
  },
  {
   "cell_type": "markdown",
   "metadata": {
    "id": "dQ9LIqsqT-9R"
   },
   "source": [
    "**Conditional statement**"
   ]
  },
  {
   "cell_type": "markdown",
   "metadata": {
    "id": "ZgVXeEI2VBOS"
   },
   "source": [
    "Check whether a number is odd or even"
   ]
  },
  {
   "cell_type": "code",
   "execution_count": null,
   "metadata": {
    "colab": {
     "base_uri": "https://localhost:8080/"
    },
    "id": "8W7M5ZNlT_Ew",
    "outputId": "1df83a64-96f4-4f14-f5a5-0ba4894ab2f5"
   },
   "outputs": [
    {
     "name": "stdout",
     "output_type": "stream",
     "text": [
      "Enter an integer : 10\n",
      "The number is even\n"
     ]
    }
   ],
   "source": [
    "num=int(input(\"Enter an integer : \"));\n",
    "if(num&1):\n",
    "  print(\"The number is odd\");\n",
    "else:\n",
    "  print(\"The number is even\")"
   ]
  },
  {
   "cell_type": "markdown",
   "metadata": {
    "id": "JcFZPG7Wc0DC"
   },
   "source": [
    "Check if year is a leap or not"
   ]
  },
  {
   "cell_type": "code",
   "execution_count": null,
   "metadata": {
    "colab": {
     "base_uri": "https://localhost:8080/"
    },
    "id": "k45XCrKNc0j7",
    "outputId": "0dbdd283-e363-47b1-ec8d-356e3e563636"
   },
   "outputs": [
    {
     "name": "stdout",
     "output_type": "stream",
     "text": [
      "Enter a year2021\n",
      "Year 2021 is Not leap year\n"
     ]
    }
   ],
   "source": [
    "y= int(input(\"Enter a year\"));\n",
    "if(((y % 400) ==0) or ((y % 100) != 0) and ((y % 4) ==0) ):\n",
    "    print(f\"Year {y} is a leap year\")\n",
    "else:\n",
    "  print(f\"Year {y} is Not leap year\")"
   ]
  },
  {
   "cell_type": "markdown",
   "metadata": {
    "id": "3wVg6qjqVoLV"
   },
   "source": [
    "**Itreative statements**"
   ]
  },
  {
   "cell_type": "markdown",
   "metadata": {
    "id": "dKNCQsSSb4ru"
   },
   "source": [
    "Multiplocation table"
   ]
  },
  {
   "cell_type": "code",
   "execution_count": null,
   "metadata": {
    "colab": {
     "base_uri": "https://localhost:8080/"
    },
    "id": "sBm5yPD8Vt2s",
    "outputId": "3de0783d-5c03-4b3e-bd20-6bc81504a372"
   },
   "outputs": [
    {
     "name": "stdout",
     "output_type": "stream",
     "text": [
      "Enter the number to print Multiplication table for : 5\n",
      "5 X 1 = 5\n",
      "5 X 2 = 10\n",
      "5 X 3 = 15\n",
      "5 X 4 = 20\n",
      "5 X 5 = 25\n",
      "5 X 6 = 30\n",
      "5 X 7 = 35\n",
      "5 X 8 = 40\n",
      "5 X 9 = 45\n",
      "5 X 10 = 50\n"
     ]
    }
   ],
   "source": [
    "num = int(input(\"Enter the number to print Multiplication table for : \"));\n",
    "for i in range(1,11):\n",
    "  print(f\"{num} X {i} = {num*i}\");\n"
   ]
  },
  {
   "cell_type": "markdown",
   "metadata": {
    "id": "vYkYRB_JfbG7"
   },
   "source": [
    "Sum of N numbers"
   ]
  },
  {
   "cell_type": "code",
   "execution_count": null,
   "metadata": {
    "colab": {
     "base_uri": "https://localhost:8080/"
    },
    "id": "DZxnEh-Yfbct",
    "outputId": "ba7232b2-1fe2-47bb-9baf-83bb039f39ce"
   },
   "outputs": [
    {
     "name": "stdout",
     "output_type": "stream",
     "text": [
      "Enter the limit: 100\n",
      "Sum Numbers upto 100 is 5050\n"
     ]
    }
   ],
   "source": [
    "num = int(input(\"Enter the limit: \"));\n",
    "sum = 0;\n",
    "for i in range(0,(num+1)):\n",
    "  sum += i;\n",
    "print(f\"Sum Numbers upto {num} is {sum}\");\n",
    "\n"
   ]
  },
  {
   "cell_type": "markdown",
   "metadata": {
    "id": "RB_8zM-YhTH5"
   },
   "source": [
    "Factorial using loop"
   ]
  },
  {
   "cell_type": "code",
   "execution_count": null,
   "metadata": {
    "colab": {
     "base_uri": "https://localhost:8080/"
    },
    "id": "WUtK_ezRhTwh",
    "outputId": "8af08b80-029b-40f9-f969-4dd28a451bb2",
    "scrolled": true
   },
   "outputs": [
    {
     "name": "stdout",
     "output_type": "stream",
     "text": [
      "Enter a number to find factorial for: 5\n",
      "Factorial of 5 is 120\n"
     ]
    }
   ],
   "source": [
    "num = int(input(\"Enter a number to find factorial for: \"));\n",
    "fact = 1;\n",
    "if(num > -1):\n",
    "  for i in range(num,1,-1):\n",
    "    fact *= i;\n",
    "  print(f\"Factorial of {num} is {fact}\");\n",
    "else:\n",
    "  print(\"Cannot find factorial of a negative number\")\n"
   ]
  },
  {
   "cell_type": "markdown",
   "metadata": {
    "id": "qPRdgQ3Hi-u-"
   },
   "source": [
    "prime or not"
   ]
  },
  {
   "cell_type": "code",
   "execution_count": null,
   "metadata": {
    "colab": {
     "base_uri": "https://localhost:8080/"
    },
    "id": "SNheAlqAi_Me",
    "outputId": "6be76c79-cdf1-4f47-9f89-7606d98bfde1"
   },
   "outputs": [
    {
     "name": "stdout",
     "output_type": "stream",
     "text": [
      "Enter a number to check the number is prime or not5\n",
      "The given number is prime\n"
     ]
    }
   ],
   "source": [
    "import sys\n",
    "num = int(input(\"Enter a number to check the number is prime or not\"))\n",
    "if(not(num&1)):\n",
    "  print(\"The given number is not prime\")\n",
    "  sys.exit(0);\n",
    "for i in range(2,int((num/2)+1)):\n",
    "  if(num%i == 0):\n",
    "    print(\"The given number is not prime\")\n",
    "    sys.exit(0);\n",
    "print(\"The given number is prime\")"
   ]
  },
  {
   "cell_type": "markdown",
   "metadata": {
    "id": "x3oe0hKTlhoT"
   },
   "source": [
    "Palindrome or not"
   ]
  },
  {
   "cell_type": "code",
   "execution_count": null,
   "metadata": {
    "colab": {
     "base_uri": "https://localhost:8080/"
    },
    "id": "ATsjR2folh3I",
    "outputId": "7a746235-fb75-4646-c328-f31ce0bb3e51"
   },
   "outputs": [
    {
     "name": "stdout",
     "output_type": "stream",
     "text": [
      "Enter a number to check palindrome or not111\n",
      "Original number 111 \n",
      "Reversed number 111\n",
      "The Number is a palindrome\n"
     ]
    }
   ],
   "source": [
    "num = int(input(\"Enter a number to check palindrome or not\"))\n",
    "n1=num;\n",
    "rev=0;\n",
    "while (num!=0):\n",
    "  rev=rev*10 + num %10;\n",
    "  num //= 10\n",
    "print(f\"Original number {n1} \\nReversed number {rev}\")\n",
    "if(n1 == rev):\n",
    "  print(f\"The Number is a palindrome\");\n",
    "else:\n",
    "  print(f\"The Number is not a palindrome\");"
   ]
  },
  {
   "cell_type": "markdown",
   "metadata": {
    "id": "-caQqxX-l7Dq"
   },
   "source": [
    "Print pattern"
   ]
  },
  {
   "cell_type": "code",
   "execution_count": null,
   "metadata": {
    "colab": {
     "base_uri": "https://localhost:8080/"
    },
    "id": "p8X286sPl8ic",
    "outputId": "071c45e4-ac51-4924-9da2-f22cf2336a82"
   },
   "outputs": [
    {
     "name": "stdout",
     "output_type": "stream",
     "text": [
      "Enter the limit: 10\n",
      "\n",
      "          *\n",
      "         ***\n",
      "        *****\n",
      "       *******\n",
      "      *********\n",
      "     ***********\n",
      "    *************\n",
      "   ***************\n",
      "  *****************\n",
      " *******************"
     ]
    }
   ],
   "source": [
    "limit = int(input(\"Enter the limit: \"))\n",
    "for i in range (0,limit*2,2):\n",
    "  print();\n",
    "  for j in range(0,int((limit*2-i)/2)):\n",
    "      print(\" \",end=\"\")\n",
    "  for j in range(0,i+1):\n",
    "    print(\"*\", end =\"\")\n"
   ]
  },
  {
   "cell_type": "markdown",
   "metadata": {
    "id": "bl7dSgRKpSmE"
   },
   "source": [
    "Reverse a number"
   ]
  },
  {
   "cell_type": "code",
   "execution_count": null,
   "metadata": {
    "colab": {
     "base_uri": "https://localhost:8080/"
    },
    "id": "nW2GjWcfpNTt",
    "outputId": "99f48c9c-62f4-4ba9-ae87-08077a719565"
   },
   "outputs": [
    {
     "name": "stdout",
     "output_type": "stream",
     "text": [
      "Enter a number: 524\n",
      "Original number 524 \n",
      "Reversed number 425\n"
     ]
    }
   ],
   "source": [
    "num = int(input(\"Enter a number: \"))\n",
    "n1=num;\n",
    "rev=0;\n",
    "while (num!=0):\n",
    "  rev=rev*10 + num %10;\n",
    "  num //= 10\n",
    "print(f\"Original number {n1} \\nReversed number {rev}\")"
   ]
  },
  {
   "cell_type": "markdown",
   "metadata": {
    "id": "g2XTO5tBqhMS"
   },
   "source": [
    "Count digits in a number"
   ]
  },
  {
   "cell_type": "code",
   "execution_count": null,
   "metadata": {
    "colab": {
     "base_uri": "https://localhost:8080/"
    },
    "id": "j5pWDuswqkhD",
    "outputId": "d2c55aa3-40b9-4869-d79b-b10da3189f11"
   },
   "outputs": [
    {
     "name": "stdout",
     "output_type": "stream",
     "text": [
      "Enter a number: 10\n",
      "The count of digits is 2\n"
     ]
    }
   ],
   "source": [
    "num = int(input(\"Enter a number: \"))\n",
    "n1=0;\n",
    "rev=0;\n",
    "while (num!=0):\n",
    "  rev=rev*10 + num %10;\n",
    "  num //= 10\n",
    "  n1 += 1;\n",
    "print(f\"The count of digits is {n1}\")"
   ]
  },
  {
   "cell_type": "markdown",
   "metadata": {
    "id": "fsriR54IrJBu"
   },
   "source": [
    "Pattern (Better implementation)"
   ]
  },
  {
   "cell_type": "code",
   "execution_count": null,
   "metadata": {
    "colab": {
     "base_uri": "https://localhost:8080/"
    },
    "id": "rBAQHkTHrJXe",
    "outputId": "3f0c30b2-a404-4864-af27-8d4db847f443"
   },
   "outputs": [
    {
     "name": "stdout",
     "output_type": "stream",
     "text": [
      "Enter the limit: 10\n",
      "\n",
      "           \n",
      "          * \n",
      "         * * \n",
      "        * * * \n",
      "       * * * * \n",
      "      * * * * * \n",
      "     * * * * * * \n",
      "    * * * * * * * \n",
      "   * * * * * * * * \n",
      "  * * * * * * * * * "
     ]
    }
   ],
   "source": [
    "limit = int(input(\"Enter the limit: \"))\n",
    "for i in range (0,limit*2,2):\n",
    "  print();\n",
    "  for j in range(0,int((limit*2-i)/2)):\n",
    "      print(\" \",end=\"\")\n",
    "  for j in range(0,i+1):\n",
    "    if(j&1):\n",
    "     print(\"*\", end =\"\")\n",
    "    else:\n",
    "      print(\" \",end = \"\")\n"
   ]
  },
  {
   "cell_type": "markdown",
   "metadata": {
    "id": "drEkEZY_sNmj"
   },
   "source": [
    "Largest among three"
   ]
  },
  {
   "cell_type": "code",
   "execution_count": null,
   "metadata": {
    "colab": {
     "base_uri": "https://localhost:8080/"
    },
    "id": "Sp76i_93sPRE",
    "outputId": "0ba02821-9e3b-43dd-c84f-8e03649608e7"
   },
   "outputs": [
    {
     "name": "stdout",
     "output_type": "stream",
     "text": [
      "Enter the first number10\n",
      "Enter the second number20\n",
      "Enter the third number5\n",
      "20 is the largest number\n"
     ]
    }
   ],
   "source": [
    "a= int(input(\"Enter the first number: \"))\n",
    "b= int(input(\"Enter the second number: \"))\n",
    "c= int(input(\"Enter the third number: \"))\n",
    "if(a>b and a>c):\n",
    "  print(f\"{a} is the largest number\");\n",
    "elif(b>c):\n",
    "  print(f\"{b} is the largest number\");\n",
    "else:\n",
    "  print(f\"{c} is the largest number\")"
   ]
  },
  {
   "cell_type": "markdown",
   "metadata": {
    "id": "VZ_r45Z2sof1"
   },
   "source": [
    "Fibonaci using loop"
   ]
  },
  {
   "cell_type": "code",
   "execution_count": null,
   "metadata": {
    "colab": {
     "base_uri": "https://localhost:8080/"
    },
    "id": "Ed7XNYA0spMu",
    "outputId": "c9501358-f379-4d16-e511-c38ae6a0e1a8"
   },
   "outputs": [
    {
     "name": "stdout",
     "output_type": "stream",
     "text": [
      "Enter the Limit5\n",
      "0 ,1 ,1 ,2 ,3 ,5 ,\n"
     ]
    }
   ],
   "source": [
    "n= int(input(\"Enter the Limit : \"));\n",
    "a,b=0,1\n",
    "for i in range(0,(n+1)):\n",
    "  print(a,\",\",end=\"\")\n",
    "  a,b=b,a+b\n",
    "print()"
   ]
  },
  {
   "cell_type": "markdown",
   "metadata": {
    "id": "O0BQszp6spkW"
   },
   "source": [
    "Sum of digits of a number"
   ]
  },
  {
   "cell_type": "code",
   "execution_count": null,
   "metadata": {
    "colab": {
     "base_uri": "https://localhost:8080/"
    },
    "id": "hp9iT-Jrspq-",
    "outputId": "63a18dc9-6e89-4483-ae90-71407d4017a7"
   },
   "outputs": [
    {
     "name": "stdout",
     "output_type": "stream",
     "text": [
      "Enter a number: 458\n",
      "The sum of digits of number is 17\n"
     ]
    }
   ],
   "source": [
    "num = int(input(\"Enter a number: \"))\n",
    "n1=0;\n",
    "while (num!=0):\n",
    "  n1 += num%10;\n",
    "  num //= 10\n",
    "print(f\"The sum of digits of number is {n1}\")"
   ]
  },
  {
   "cell_type": "markdown",
   "metadata": {
    "id": "EBzCuaRBsp2O"
   },
   "source": [
    "Count vowels in a string"
   ]
  },
  {
   "cell_type": "code",
   "execution_count": 1,
   "metadata": {
    "colab": {
     "base_uri": "https://localhost:8080/"
    },
    "id": "LrfFc1eCsp8G",
    "outputId": "18789b9a-e2f5-45ea-c649-249208d5d5c7"
   },
   "outputs": [
    {
     "name": "stdin",
     "output_type": "stream",
     "text": [
      "Enter a string to count vowels in  12\n"
     ]
    },
    {
     "name": "stdout",
     "output_type": "stream",
     "text": [
      "number of vowels in 12 is 0\n"
     ]
    }
   ],
   "source": [
    "strg= input(\"Enter a string to count vowels in \");\n",
    "vow=0;\n",
    "for char in strg:\n",
    "  if(char in ('a','i','o','e','u')):\n",
    "    vow += 1;\n",
    "print(f\"number of vowels in {strg} is {vow}\")"
   ]
  },
  {
   "cell_type": "markdown",
   "metadata": {
    "id": "uheSCiD8uxVK"
   },
   "source": [
    "**Functions**"
   ]
  },
  {
   "cell_type": "markdown",
   "metadata": {
    "id": "7zr1V6dw_yvj"
   },
   "source": [
    "Factorial using function"
   ]
  },
  {
   "cell_type": "code",
   "execution_count": 16,
   "metadata": {
    "id": "vyI__3yX_zDb"
   },
   "outputs": [
    {
     "name": "stdin",
     "output_type": "stream",
     "text": [
      "Enter the number to check factorial for 5\n"
     ]
    },
    {
     "name": "stdout",
     "output_type": "stream",
     "text": [
      "Factorial of 5 is 120\n"
     ]
    }
   ],
   "source": [
    "def fact(n):\n",
    "    res = 1;\n",
    "    if(n<0):\n",
    "        print(\"Factorial cannot be found for a negative number\")\n",
    "    else:\n",
    "        for i in range(n,1,-1):\n",
    "            res *= i;\n",
    "        return res\n",
    "num= int(input(\"Enter the number to check factorial for\"))\n",
    "print(f\"Factorial of {num} is {fact(num)}\")"
   ]
  },
  {
   "cell_type": "markdown",
   "metadata": {},
   "source": [
    "Calculator using function"
   ]
  },
  {
   "cell_type": "code",
   "execution_count": 30,
   "metadata": {},
   "outputs": [
    {
     "name": "stdin",
     "output_type": "stream",
     "text": [
      "Enter a Integer 15\n",
      "Enter second Integer 0\n"
     ]
    },
    {
     "name": "stdout",
     "output_type": "stream",
     "text": [
      "Select operation \n",
      " 1.Addition \n",
      " 2.Substraction \n",
      " 3.Multiplication \n",
      " 4.Division\n"
     ]
    },
    {
     "name": "stdin",
     "output_type": "stream",
     "text": [
      " 4\n"
     ]
    },
    {
     "name": "stdout",
     "output_type": "stream",
     "text": [
      "Math Error: Division by 0 is not possible\n",
      "Div of 15,0 is None\n"
     ]
    }
   ],
   "source": [
    "def add(a,b):\n",
    "    return a+b\n",
    "def mul(a,b):\n",
    "    return a*b\n",
    "def sub(a,b):\n",
    "    return a-b;\n",
    "def div(a,b):\n",
    "    if(b==0):\n",
    "        print(\"Math Error: Division by 0 is not possible\")\n",
    "    else:\n",
    "        return a/b\n",
    "a=int(input(\"Enter a Integer\"))\n",
    "b=int(input(\"Enter second Integer\"))\n",
    "print(f\"Select operation \\n 1.Addition \\n 2.Substraction \\n 3.Multiplication \\n 4.Division\")\n",
    "c=int(input())\n",
    "if(c==1):\n",
    "    print(f\"sum of {a},{b} is {add(a,b)}\")\n",
    "elif(c==2):\n",
    "    print(f\"differance of {a},{b} is {sub(a,b)}\")\n",
    "elif(c==3):\n",
    "    print(f\"product of {a},{b} is {mul(a,b)}\")\n",
    "elif(c==4):\n",
    "    print(f\"Div of {a},{b} is {div(a,b)}\")\n",
    "else:\n",
    "    print(\"Invalid Operator\")"
   ]
  },
  {
   "cell_type": "markdown",
   "metadata": {},
   "source": [
    "prime check using function"
   ]
  },
  {
   "cell_type": "code",
   "execution_count": 39,
   "metadata": {},
   "outputs": [
    {
     "name": "stdin",
     "output_type": "stream",
     "text": [
      "Enter a integer to check whether it is a prime or not 10\n"
     ]
    },
    {
     "name": "stdout",
     "output_type": "stream",
     "text": [
      "10 is not a prime number \n"
     ]
    }
   ],
   "source": [
    "def prime(num):\n",
    "    if(not(num&1)):\n",
    "      return False\n",
    "    for i in range(2,int((num/2)+1)):\n",
    "      if(num%i == 0):\n",
    "        return False\n",
    "    return True\n",
    "num=int(input(\"Enter a integer to check whether it is a prime or not\"))\n",
    "if(prime(num)):\n",
    "    print(f\"{num} is a prime number \")\n",
    "else:\n",
    "    print(f\"{num} is not a prime number \")"
   ]
  },
  {
   "cell_type": "markdown",
   "metadata": {},
   "source": [
    "Factorial using Recursion"
   ]
  },
  {
   "cell_type": "code",
   "execution_count": 22,
   "metadata": {},
   "outputs": [
    {
     "name": "stdin",
     "output_type": "stream",
     "text": [
      "Enter the number to check factorial for 5\n"
     ]
    },
    {
     "name": "stdout",
     "output_type": "stream",
     "text": [
      "Factorial of 5 is 120\n"
     ]
    }
   ],
   "source": [
    "def fact(n):\n",
    "    if(n <= 1):\n",
    "        return 1;\n",
    "    else:\n",
    "        return n*fact(n-1);\n",
    "num=int(input(\"Enter the number to check factorial for\"))\n",
    "if(num<0):\n",
    "    print(\"Number cant be negative\")\n",
    "else:\n",
    "    print(f\"Factorial of {num} is {fact(num)}\")"
   ]
  },
  {
   "cell_type": "markdown",
   "metadata": {},
   "source": [
    "Function to find average of numbers"
   ]
  },
  {
   "cell_type": "code",
   "execution_count": 59,
   "metadata": {},
   "outputs": [
    {
     "name": "stdin",
     "output_type": "stream",
     "text": [
      "enter first integer 10\n",
      "Enter second integer 20\n"
     ]
    },
    {
     "name": "stdout",
     "output_type": "stream",
     "text": [
      "Average of 10,20 is 15.0\n"
     ]
    }
   ],
   "source": [
    "def avg(a,b):\n",
    "    return ((a+b)/2)\n",
    "num = int(input(\"enter first integer\"))\n",
    "num2 = int(input(\"Enter second integer\"))\n",
    "print(f\"Average of {num},{num2} is {avg(num,num2)}\")"
   ]
  },
  {
   "cell_type": "markdown",
   "metadata": {},
   "source": [
    "Function to convert temparature"
   ]
  },
  {
   "cell_type": "code",
   "execution_count": 67,
   "metadata": {},
   "outputs": [
    {
     "name": "stdin",
     "output_type": "stream",
     "text": [
      "Enter the temparature 10\n"
     ]
    },
    {
     "name": "stdout",
     "output_type": "stream",
     "text": [
      "Fareiheit corrosponding to 10 celcius is 50.0\n"
     ]
    }
   ],
   "source": [
    "def cnv(c):\n",
    "    return((c*(9/5))+32)\n",
    "c=int(input(\"Enter the temparature\"))\n",
    "print(f\"Fareiheit corrosponding to {c} celcius is {cnv(c)}\")"
   ]
  },
  {
   "cell_type": "markdown",
   "metadata": {},
   "source": [
    "Recursive sum of Natural numbers"
   ]
  },
  {
   "cell_type": "code",
   "execution_count": 61,
   "metadata": {},
   "outputs": [
    {
     "name": "stdin",
     "output_type": "stream",
     "text": [
      "Enter the limit 10\n"
     ]
    },
    {
     "name": "stdout",
     "output_type": "stream",
     "text": [
      "The Sum of Natural numbers upto 10 is 55\n"
     ]
    }
   ],
   "source": [
    "def sum(n):\n",
    "    if(n==0):\n",
    "        return 0\n",
    "    else:\n",
    "        return n+sum(n-1)\n",
    "num= int(input(\"Enter the limit\"))\n",
    "print(f\"The Sum of Natural numbers upto {num} is {sum(num)}\")\n",
    "        \n"
   ]
  },
  {
   "cell_type": "code",
   "execution_count": null,
   "metadata": {},
   "outputs": [],
   "source": []
  }
 ],
 "metadata": {
  "colab": {
   "provenance": []
  },
  "kernelspec": {
   "display_name": "Python 3 (ipykernel)",
   "language": "python",
   "name": "python3"
  },
  "language_info": {
   "codemirror_mode": {
    "name": "ipython",
    "version": 3
   },
   "file_extension": ".py",
   "mimetype": "text/x-python",
   "name": "python",
   "nbconvert_exporter": "python",
   "pygments_lexer": "ipython3",
   "version": "3.12.7"
  }
 },
 "nbformat": 4,
 "nbformat_minor": 4
}
