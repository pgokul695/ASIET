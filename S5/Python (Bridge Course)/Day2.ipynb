{
 "cells": [
  {
   "cell_type": "markdown",
   "id": "50a53358-4369-4afb-a359-fc7c50f3cad3",
   "metadata": {},
   "source": [
    "**Data Types (Strings,List,Tuples)**"
   ]
  },
  {
   "cell_type": "markdown",
   "id": "778f55c5-238f-416a-93f4-7088e3508d6a",
   "metadata": {},
   "source": [
    "String length"
   ]
  },
  {
   "cell_type": "code",
   "execution_count": 3,
   "id": "b8047d05-4482-4980-9051-cb9318931e3d",
   "metadata": {},
   "outputs": [
    {
     "name": "stdin",
     "output_type": "stream",
     "text": [
      "Enter a string  abc\n"
     ]
    },
    {
     "name": "stdout",
     "output_type": "stream",
     "text": [
      "The lenght of abc is 3\n"
     ]
    }
   ],
   "source": [
    "a= input(\"Enter a string \")\n",
    "print(f\"The lenght of {a} is {len(a)}\")"
   ]
  },
  {
   "cell_type": "markdown",
   "id": "26b48dd2-21d7-4baf-a6a7-00e0f638b27a",
   "metadata": {},
   "source": [
    "Count vowels and Consonants"
   ]
  },
  {
   "cell_type": "code",
   "execution_count": 19,
   "id": "f3b26a8b-6fae-46d8-a668-3dd24130e5d0",
   "metadata": {},
   "outputs": [
    {
     "name": "stdin",
     "output_type": "stream",
     "text": [
      "Enter a string hello\n"
     ]
    },
    {
     "name": "stdout",
     "output_type": "stream",
     "text": [
      "The number of vowels in hello is 2\n",
      "The number of consonents in hello is 3\n"
     ]
    }
   ],
   "source": [
    "a= input(\"Enter a string\")\n",
    "v,u = 0,0\n",
    "for c in a:\n",
    "    if (c >='a' and c<= 'z' or c >='A' and c<='Z'):\n",
    "        if c in ('a','e','i','o','u','A','E','I','O','U'):\n",
    "            v+= 1\n",
    "        else:\n",
    "            u+= 1\n",
    "print(f\"The number of vowels in {a} is {v}\")\n",
    "print(f\"The number of consonents in {a} is {u}\")"
   ]
  },
  {
   "cell_type": "markdown",
   "id": "94e6062e-61fe-4434-a7d4-66b84506ebea",
   "metadata": {},
   "source": [
    "Reverse a String"
   ]
  },
  {
   "cell_type": "code",
   "execution_count": 23,
   "id": "d3a3ec28-b8a4-4f5a-b6da-f9334c243e1a",
   "metadata": {},
   "outputs": [
    {
     "name": "stdin",
     "output_type": "stream",
     "text": [
      "Enter a string hello\n"
     ]
    },
    {
     "name": "stdout",
     "output_type": "stream",
     "text": [
      "Reverse of hello is olleh\n"
     ]
    }
   ],
   "source": [
    "a= input(\"Enter a string\")\n",
    "print(f\"Reverse of {a} is {a[::-1]}\")\n"
   ]
  },
  {
   "cell_type": "markdown",
   "id": "9a6e224f-e32a-493c-b823-3423ce0e5f2b",
   "metadata": {},
   "source": [
    "Palindrome "
   ]
  },
  {
   "cell_type": "code",
   "execution_count": 35,
   "id": "429271e2-812b-4046-bd8b-26dc74f4016a",
   "metadata": {},
   "outputs": [
    {
     "name": "stdin",
     "output_type": "stream",
     "text": [
      "Enter a string hello\n"
     ]
    },
    {
     "name": "stdout",
     "output_type": "stream",
     "text": [
      "Reverse of hello is olleh\n",
      "The string is not a palindrome\n"
     ]
    }
   ],
   "source": [
    "a= input(\"Enter a string\")\n",
    "b=a[::-1]\n",
    "print(f\"Reverse of {a} is {b}\")\n",
    "if(a==b):\n",
    "    print(\"The String is a palindrome\")\n",
    "else:\n",
    "    print(\"The string is not a palindrome\")"
   ]
  },
  {
   "cell_type": "markdown",
   "id": "5e8577e0-9dd3-4a83-81d0-c44e958aaff7",
   "metadata": {},
   "source": [
    "Merge two lists"
   ]
  },
  {
   "cell_type": "code",
   "execution_count": 49,
   "id": "2c4aaadd-1c89-44f7-ad51-9c043fa4b82a",
   "metadata": {},
   "outputs": [
    {
     "name": "stdin",
     "output_type": "stream",
     "text": [
      "Enter first list (Space seperated) 1 2 3 \n",
      "Enter second list (Space seperated) 2 3 \n"
     ]
    },
    {
     "name": "stdout",
     "output_type": "stream",
     "text": [
      "First list : ['1', '2', '3']\n",
      "Second list :['2', '3'] \n",
      "Concanated list['1', '2', '3', '2', '3']\n"
     ]
    }
   ],
   "source": [
    "a = input(\"Enter first list (Space seperated)\").split()\n",
    "b = input(\"Enter second list (Space seperated)\").split()\n",
    "print(f\"First list : {a}\\nSecond list :{b} \\nConcanated list{a+b}\")"
   ]
  },
  {
   "cell_type": "markdown",
   "id": "09b1acff-829c-4275-8dad-f1fe7ab2d06a",
   "metadata": {},
   "source": [
    "Remove duplicates "
   ]
  },
  {
   "cell_type": "code",
   "execution_count": 57,
   "id": "03e19675-4969-4cef-9d3f-acaf482a0fd8",
   "metadata": {},
   "outputs": [
    {
     "name": "stdin",
     "output_type": "stream",
     "text": [
      "Enter first list (Space seperated) 1 2 2 3 \n"
     ]
    },
    {
     "name": "stdout",
     "output_type": "stream",
     "text": [
      "The input Without Duplicates {'1', '3', '2'}\n"
     ]
    }
   ],
   "source": [
    "a = input(\"Enter first list (Space seperated)\").split()\n",
    "print(f\"The input Without Duplicates {(set(a))}\")"
   ]
  },
  {
   "cell_type": "markdown",
   "id": "2f62bac4-e978-4746-82bb-c0797b334532",
   "metadata": {},
   "source": [
    "Max, Min from list"
   ]
  },
  {
   "cell_type": "code",
   "execution_count": 93,
   "id": "d0973f48-506d-46de-9a77-6b736b8237fa",
   "metadata": {},
   "outputs": [
    {
     "name": "stdin",
     "output_type": "stream",
     "text": [
      "Enter a list of integers (Space Sepertaed) 1 2 3\n"
     ]
    },
    {
     "name": "stdout",
     "output_type": "stream",
     "text": [
      "Max from [1, 2, 3] is 3 \n",
      "Min from [1, 2, 3] is 1 \n"
     ]
    }
   ],
   "source": [
    "a = input(\"Enter a list of integers (Space Sepertaed)\").split()\n",
    "al= list(map(int,a))\n",
    "print(f\"Max from {al} is {max(al)} \\nMin from {al} is {min(al)} \")"
   ]
  },
  {
   "cell_type": "markdown",
   "id": "792b081e-cd12-443c-8990-41197be4ed5b",
   "metadata": {},
   "source": [
    "Sum of elements in a list"
   ]
  },
  {
   "cell_type": "code",
   "execution_count": 95,
   "id": "f88f630d-417a-45b7-a814-f1cd2f3d5333",
   "metadata": {},
   "outputs": [
    {
     "name": "stdin",
     "output_type": "stream",
     "text": [
      "Enter a list of integers (Space Sepertaed) 1 2 3\n"
     ]
    },
    {
     "name": "stdout",
     "output_type": "stream",
     "text": [
      "sum of elements of [1, 2, 3] is 6\n"
     ]
    }
   ],
   "source": [
    "a = input(\"Enter a list of integers (Space Sepertaed)\").split()\n",
    "al= list(map(int,a))\n",
    "print(f\"sum of elements of {al} is {sum(al)}\")"
   ]
  },
  {
   "cell_type": "markdown",
   "id": "0ff404e7-f254-43eb-8f9f-d6853ab8f586",
   "metadata": {},
   "source": [
    "Find index"
   ]
  },
  {
   "cell_type": "code",
   "execution_count": 111,
   "id": "513aaa8e-a44d-49a9-837d-7988a49188d4",
   "metadata": {},
   "outputs": [
    {
     "name": "stdin",
     "output_type": "stream",
     "text": [
      "Enter a list (Space seperated) 1 2 3\n",
      "Enter the element to be searched for 2\n"
     ]
    },
    {
     "name": "stdout",
     "output_type": "stream",
     "text": [
      "Index of 2 in ['1', '2', '3'] is 1\n"
     ]
    }
   ],
   "source": [
    "a = input(\"Enter a list (Space seperated)\").split()\n",
    "b = str(input(\"Enter the element to be searched for\"))\n",
    "if(b in a):\n",
    "    print(f\"Index of {b} in {a} is {a.index(b)}\")\n",
    "else:\n",
    "    print(f\"The list {a} doesnt contain the element {b}\")"
   ]
  },
  {
   "cell_type": "markdown",
   "id": "ed28e8d2-ff3a-42eb-b7d2-3e0555ec277d",
   "metadata": {},
   "source": [
    "Sort list"
   ]
  },
  {
   "cell_type": "code",
   "execution_count": 137,
   "id": "961b335f-ac08-48b6-98a6-4711e56e2d35",
   "metadata": {},
   "outputs": [
    {
     "name": "stdin",
     "output_type": "stream",
     "text": [
      "Enter a list (Space seperated) 3 2 1\n"
     ]
    },
    {
     "name": "stdout",
     "output_type": "stream",
     "text": [
      "Unsorted list [3, 2, 1] \n",
      "Sorted list [1, 2, 3]\n"
     ]
    }
   ],
   "source": [
    "a = list(map(int,input(\"Enter a list (Space seperated)\").split()))\n",
    "b = sorted(a)\n",
    "print(f\"Unsorted list {a} \\nSorted list {b}\")"
   ]
  },
  {
   "cell_type": "markdown",
   "id": "ed798b9d-5026-4207-943c-e7ca5cdeebdc",
   "metadata": {},
   "source": [
    "Check if two strings are anagrams"
   ]
  },
  {
   "cell_type": "code",
   "execution_count": 177,
   "id": "801871d7-249e-4977-beb8-4e0647d18eca",
   "metadata": {},
   "outputs": [
    {
     "name": "stdin",
     "output_type": "stream",
     "text": [
      "Enter the first string ab\n",
      "Enter the Second string bab\n"
     ]
    },
    {
     "name": "stdout",
     "output_type": "stream",
     "text": [
      "The given strings are not Anagrams\n"
     ]
    }
   ],
   "source": [
    "a= input(\"Enter the first string\")\n",
    "b= input(\"Enter the Second string\")\n",
    "s=list(a)\n",
    "count = 0\n",
    "for c in b:\n",
    "    if c in s:\n",
    "        count+= 1\n",
    "        s.remove(c)\n",
    "if(count == len(b)):\n",
    "    print(\"The given strings are Anagrams\")\n",
    "else:\n",
    "    print(\"The given strings are not Anagrams\")"
   ]
  },
  {
   "cell_type": "markdown",
   "id": "62cd545d-fcaf-4e52-84b7-df3feb60265c",
   "metadata": {},
   "source": [
    "Delete specific element from the list"
   ]
  },
  {
   "cell_type": "code",
   "execution_count": 167,
   "id": "bddd7233-d038-479c-a61d-64dde7dc0f53",
   "metadata": {},
   "outputs": [
    {
     "name": "stdin",
     "output_type": "stream",
     "text": [
      "Enter a list (Space seperated) 1 2 3\n",
      "Enter the element to be Deleted 2\n"
     ]
    },
    {
     "name": "stdout",
     "output_type": "stream",
     "text": [
      "List after Deletion is ['1', '3']\n"
     ]
    }
   ],
   "source": [
    "a = input(\"Enter a list (Space seperated)\").split()\n",
    "b = str(input(\"Enter the element to be Deleted\"))\n",
    "if(b in a):\n",
    "    a.remove(b)\n",
    "    print(f\"List after Deletion is {a}\")\n",
    "else:\n",
    "    print(f\"The list {a} doesnt contain the element {b}\")"
   ]
  },
  {
   "cell_type": "markdown",
   "id": "a13498c4-4ad6-401d-9aa2-98582bae5adc",
   "metadata": {},
   "source": [
    "Second largest element"
   ]
  },
  {
   "cell_type": "code",
   "execution_count": 181,
   "id": "c29dfe2c-b625-4026-9e80-a9be868d20b1",
   "metadata": {},
   "outputs": [
    {
     "name": "stdin",
     "output_type": "stream",
     "text": [
      "Enter a list (Space seperated) 1 2 3\n"
     ]
    },
    {
     "name": "stdout",
     "output_type": "stream",
     "text": [
      "Second largest element in [1, 2, 3] is 2 \n"
     ]
    }
   ],
   "source": [
    "a = list(map(int,input(\"Enter a list (Space seperated)\").split()))\n",
    "b = sorted(a)\n",
    "print(f\"Second largest element in {a} is {b[-2]} \")"
   ]
  },
  {
   "cell_type": "markdown",
   "id": "c62122a9-f9e7-4d6d-affe-fe1509561443",
   "metadata": {},
   "source": [
    "**Tuple,Set and Dictonary**"
   ]
  },
  {
   "cell_type": "markdown",
   "id": "e10524ba-8229-4d73-8f7a-05b4e5ef0c14",
   "metadata": {},
   "source": [
    "Tuple Creation"
   ]
  },
  {
   "cell_type": "code",
   "execution_count": 185,
   "id": "485de6d9-0194-4f23-9c5e-511bfc14be28",
   "metadata": {},
   "outputs": [
    {
     "name": "stdout",
     "output_type": "stream",
     "text": [
      "Tuple contents: (1, 2, 3, 4)\n"
     ]
    }
   ],
   "source": [
    "t=(1,2,3,4)\n",
    "print(f\"Tuple contents: {t}\")"
   ]
  },
  {
   "cell_type": "code",
   "execution_count": null,
   "id": "bb84c222-9159-4660-9631-14d102efffa9",
   "metadata": {},
   "outputs": [],
   "source": [
    "Tuple packing and unpacking"
   ]
  },
  {
   "cell_type": "code",
   "execution_count": 187,
   "id": "8df9f59a-7924-4610-9253-65b024739c51",
   "metadata": {},
   "outputs": [
    {
     "name": "stdout",
     "output_type": "stream",
     "text": [
      "a =1,b=2,c=3\n"
     ]
    }
   ],
   "source": [
    "t=(1,2,3)\n",
    "a,b,c=t\n",
    "print(f\"a ={a},b={b},c={c}\")"
   ]
  },
  {
   "cell_type": "markdown",
   "id": "606ec50b-8f27-42c8-a0c6-49b20f900505",
   "metadata": {},
   "source": [
    "Set Uninon intersection"
   ]
  },
  {
   "cell_type": "code",
   "execution_count": 195,
   "id": "912efdf9-f8c8-441b-aaf4-f9e46f6973b8",
   "metadata": {},
   "outputs": [
    {
     "name": "stdin",
     "output_type": "stream",
     "text": [
      "Enter a list of integers (Space seperated) 1 2 3\n",
      "Enter a list of integers (Space seperated) 2 3 \n"
     ]
    },
    {
     "name": "stdout",
     "output_type": "stream",
     "text": [
      "Set A is {1, 2, 3}\n",
      "Set B is {2, 3}\n",
      "A Uninon B is {1, 2, 3}  \n",
      "A intersection B is {2, 3}\n"
     ]
    }
   ],
   "source": [
    "a = list(map(int,input(\"Enter a list of integers (Space seperated)\").split()))\n",
    "b = list(map(int,input(\"Enter a list of integers (Space seperated)\").split()))\n",
    "s= set(a)\n",
    "u=set(b)\n",
    "print(f\"Set A is {s}\\nSet B is {u}\")\n",
    "print(f\"A Uninon B is {s|u}  \\nA intersection B is {s&u}\")"
   ]
  },
  {
   "cell_type": "markdown",
   "id": "876972c6-f81f-4d41-b624-6c61563960ff",
   "metadata": {},
   "source": [
    "Check subset or superset"
   ]
  },
  {
   "cell_type": "code",
   "execution_count": 203,
   "id": "fd4ceb88-b499-4b5d-b970-d894848a015b",
   "metadata": {},
   "outputs": [
    {
     "name": "stdin",
     "output_type": "stream",
     "text": [
      "Enter a list of integers (Space seperated) 1 2 3\n",
      "Enter a list of integers (Space seperated) 1\n"
     ]
    },
    {
     "name": "stdout",
     "output_type": "stream",
     "text": [
      "{1, 2, 3} is a super set of {1}\n"
     ]
    }
   ],
   "source": [
    "a = list(map(int,input(\"Enter a list of integers (Space seperated)\").split()))\n",
    "b = list(map(int,input(\"Enter a list of integers (Space seperated)\").split()))\n",
    "s= set(a)\n",
    "u=set(b)\n",
    "if(s.issubset(u)):\n",
    "    print(f\"{s} is a subset of {u}\")\n",
    "if(s.issuperset(u)):\n",
    "    print(f\"{s} is a super set of {u}\")"
   ]
  },
  {
   "cell_type": "markdown",
   "id": "cd5bca13-3e2a-44a3-a56a-530261de8830",
   "metadata": {},
   "source": [
    "Add or remove list to set"
   ]
  },
  {
   "cell_type": "code",
   "execution_count": 211,
   "id": "c5566ec7-cbad-4cea-aeb6-8bba873e8a75",
   "metadata": {},
   "outputs": [
    {
     "name": "stdin",
     "output_type": "stream",
     "text": [
      "Enter a list of integers (Space seperated) 1 2 3\n"
     ]
    },
    {
     "name": "stdout",
     "output_type": "stream",
     "text": [
      "Set A is {1, 2, 3}\n"
     ]
    },
    {
     "name": "stdin",
     "output_type": "stream",
     "text": [
      "Enter the element to be added to the set 4\n"
     ]
    },
    {
     "name": "stdout",
     "output_type": "stream",
     "text": [
      "Set A after adding element 4 is {1, 2, 3, 4}\n"
     ]
    },
    {
     "name": "stdin",
     "output_type": "stream",
     "text": [
      "Enter the element to be removed from the set 1\n"
     ]
    },
    {
     "name": "stdout",
     "output_type": "stream",
     "text": [
      "Set A after removing 1 is {2, 3, 4}\n"
     ]
    }
   ],
   "source": [
    "a = list(map(int,input(\"Enter a list of integers (Space seperated)\").split()))\n",
    "s = set(a)\n",
    "print(f\"Set A is {s}\")\n",
    "b=int(input(\"Enter the element to be added to the set\"))\n",
    "s.add(b)\n",
    "print(f\"Set A after adding element {b} is {s}\")\n",
    "b=int(input(\"Enter the element to be removed from the set\"))\n",
    "s.remove(b)\n",
    "print(f\"Set A after removing {b} is {s}\")"
   ]
  },
  {
   "cell_type": "code",
   "execution_count": null,
   "id": "d2a023a4-4624-4f06-b4cb-3c9c11122c08",
   "metadata": {},
   "outputs": [],
   "source": [
    "Create Dictonary"
   ]
  },
  {
   "cell_type": "code",
   "execution_count": 255,
   "id": "b3ef513f-dfdf-4f91-a1bd-aeab7ba1b4ad",
   "metadata": {},
   "outputs": [
    {
     "name": "stdout",
     "output_type": "stream",
     "text": [
      "The dictonary a is {'a': 1, 'b': 2, 'c': 3}\n"
     ]
    }
   ],
   "source": [
    "a={'a': 1,\n",
    "  'b' : 2,\n",
    "  'c' : 3}\n",
    "print(f\"The dictonary a is {a}\")"
   ]
  },
  {
   "cell_type": "markdown",
   "id": "1b6b6ed4-c864-40ea-8c2a-3410ae41ea97",
   "metadata": {},
   "source": [
    "Add/update Dictonary"
   ]
  },
  {
   "cell_type": "code",
   "execution_count": 259,
   "id": "26361a02-2c3f-4d08-92e9-f423e39255d2",
   "metadata": {},
   "outputs": [
    {
     "name": "stdin",
     "output_type": "stream",
     "text": [
      "Enter a name hai\n"
     ]
    },
    {
     "name": "stdout",
     "output_type": "stream",
     "text": [
      "Current Status: {'name': 'hai'}\n"
     ]
    },
    {
     "name": "stdin",
     "output_type": "stream",
     "text": [
      "Enter other name hello\n"
     ]
    },
    {
     "name": "stdout",
     "output_type": "stream",
     "text": [
      "Current Status: {'name': 'hello'}\n"
     ]
    }
   ],
   "source": [
    "d={}\n",
    "d['name']=input(\"Enter a name\")\n",
    "print(f\"Current Status: {d}\")\n",
    "d['name']=input(\"Enter another name\")\n",
    "print(f\"Current Status: {d}\")"
   ]
  },
  {
   "cell_type": "markdown",
   "id": "90ad5941-d842-4c55-9fe7-ab3abd27ce02",
   "metadata": {},
   "source": [
    "Itreate over a dictonary"
   ]
  },
  {
   "cell_type": "code",
   "execution_count": 285,
   "id": "2a80bf85-5db8-45a4-94a2-8e23e360d3f4",
   "metadata": {},
   "outputs": [
    {
     "name": "stdout",
     "output_type": "stream",
     "text": [
      "a 1\n",
      "b 2\n",
      "c 3\n"
     ]
    }
   ],
   "source": [
    "d={'a':1,'b':2,'c':3}\n",
    "for key, value in d.items():\n",
    "    print(key,value)"
   ]
  },
  {
   "cell_type": "markdown",
   "id": "a67277c4-ee7c-483a-96c6-50cbeb261cc0",
   "metadata": {},
   "source": [
    "Frequency of character in a string"
   ]
  },
  {
   "cell_type": "code",
   "execution_count": 295,
   "id": "12a9cf5a-860b-4fef-974c-53761d02ce6b",
   "metadata": {},
   "outputs": [
    {
     "name": "stdin",
     "output_type": "stream",
     "text": [
      "Enter a string hello\n"
     ]
    },
    {
     "name": "stdout",
     "output_type": "stream",
     "text": [
      "{'h': 1, 'e': 1, 'l': 2, 'o': 1}\n"
     ]
    }
   ],
   "source": [
    "a= input(\"Enter a string\")\n",
    "freq={}\n",
    "for char in a:\n",
    "    freq[char] =  (freq.get(char,0)+1)\n",
    "print(freq)"
   ]
  },
  {
   "cell_type": "code",
   "execution_count": null,
   "id": "341337a1-b67a-4474-b27e-3d939a8a5fff",
   "metadata": {},
   "outputs": [],
   "source": [
    "Convert two lists to a dictonary"
   ]
  },
  {
   "cell_type": "code",
   "execution_count": 307,
   "id": "93479c38-0c60-4e78-a3d0-4ed943681060",
   "metadata": {},
   "outputs": [
    {
     "name": "stdin",
     "output_type": "stream",
     "text": [
      "Enter a list (Space seperated) 123\n",
      "Enter a list (Space seperated) 12\n"
     ]
    },
    {
     "name": "stdout",
     "output_type": "stream",
     "text": [
      "The dictonary is {'123': '12'}\n"
     ]
    }
   ],
   "source": [
    "a= input(\"Enter a list (Space seperated)\").split()\n",
    "b= input(\"Enter a list (Space seperated)\").split()\n",
    "dit={}\n",
    "for i in range(0,len(a)):\n",
    "    dit[a[i]]= b[i];\n",
    "print(f\"The dictonary is {dit}\")"
   ]
  },
  {
   "cell_type": "markdown",
   "id": "21985e24-478a-4981-b9c4-f103c6ed7bec",
   "metadata": {},
   "source": [
    "Find common elements between two sets"
   ]
  },
  {
   "cell_type": "code",
   "execution_count": 313,
   "id": "813502a8-f59d-46ac-9a33-5b234a2b65ac",
   "metadata": {},
   "outputs": [
    {
     "name": "stdin",
     "output_type": "stream",
     "text": [
      "Enter a list of integers (Space seperated) 1 2 \n",
      "Enter a list of integers (Space seperated) 3 1\n"
     ]
    },
    {
     "name": "stdout",
     "output_type": "stream",
     "text": [
      "Set A is {1, 2}\n",
      "Set B is {1, 3}\n",
      "The common elements in A and B is {1}\n"
     ]
    }
   ],
   "source": [
    "a = list(map(int,input(\"Enter a list of integers (Space seperated)\").split()))\n",
    "b = list(map(int,input(\"Enter a list of integers (Space seperated)\").split()))\n",
    "s= set(a)\n",
    "u=set(b)\n",
    "print(f\"Set A is {s}\\nSet B is {u}\")\n",
    "print(f\"The common elements in A and B is {s&u}\")"
   ]
  },
  {
   "cell_type": "markdown",
   "id": "c6cbc8f3-99c0-4888-aa9f-48e81d5436a0",
   "metadata": {},
   "source": [
    "Remove duplicates using a set"
   ]
  },
  {
   "cell_type": "code",
   "execution_count": 317,
   "id": "84ffe4ce-5a9a-4017-b144-de7faf5b2706",
   "metadata": {},
   "outputs": [
    {
     "name": "stdin",
     "output_type": "stream",
     "text": [
      "Enter first list (Space seperated) 1 2 2 3\n"
     ]
    },
    {
     "name": "stdout",
     "output_type": "stream",
     "text": [
      "The input Without Duplicates {'1', '3', '2'}\n"
     ]
    }
   ],
   "source": [
    "a = input(\"Enter first list (Space seperated)\").split()\n",
    "print(f\"The input Without Duplicates {(set(a))}\")"
   ]
  },
  {
   "cell_type": "code",
   "execution_count": null,
   "id": "a1e1ed1f-8e20-43ec-bfb7-3f9bdd6a1887",
   "metadata": {},
   "outputs": [],
   "source": [
    "**File Handling**"
   ]
  },
  {
   "cell_type": "code",
   "execution_count": null,
   "id": "07d9cb0f-f9cf-4034-b592-ee6c7814d8e5",
   "metadata": {},
   "outputs": [],
   "source": [
    "Opening a file to read"
   ]
  },
  {
   "cell_type": "code",
   "execution_count": 463,
   "id": "f4f5b83b-4137-40b3-8707-eaf9350e631a",
   "metadata": {
    "scrolled": true
   },
   "outputs": [
    {
     "name": "stdout",
     "output_type": "stream",
     "text": [
      "Hello World\n"
     ]
    }
   ],
   "source": [
    "with open(\"text.txt\",'r') as fd:\n",
    "    print(fd.read())"
   ]
  },
  {
   "cell_type": "code",
   "execution_count": null,
   "id": "7ff3f812-0cd2-4c06-b119-0b222f6e20fd",
   "metadata": {},
   "outputs": [],
   "source": [
    "Writing into a file"
   ]
  },
  {
   "cell_type": "code",
   "execution_count": 481,
   "id": "878fb9ab-e8e1-48a4-af33-0b4a62098b5b",
   "metadata": {},
   "outputs": [
    {
     "name": "stdout",
     "output_type": "stream",
     "text": [
      "Hello World!\n"
     ]
    }
   ],
   "source": [
    "with open(\"text.txt\",'w') as fd:\n",
    "    fd.write(\"Hello World!\")\n",
    "with open(\"text.txt\",'r') as fd:\n",
    "    print(f\"{fd.read()}\")"
   ]
  },
  {
   "cell_type": "markdown",
   "id": "41d909b9-9ac3-43b4-ab15-4a390da74dcf",
   "metadata": {},
   "source": [
    "Count Words in a file"
   ]
  },
  {
   "cell_type": "code",
   "execution_count": 479,
   "id": "93dae25e-10de-4348-bd85-78af06049b05",
   "metadata": {},
   "outputs": [
    {
     "name": "stdout",
     "output_type": "stream",
     "text": [
      "Number of words in File is 2\n"
     ]
    }
   ],
   "source": [
    "with open(\"text.txt\",'r') as fd:\n",
    "    file= fd.read()\n",
    "file=list(file.split())\n",
    "print(f\"Number of words in File is {len(file)}\")"
   ]
  },
  {
   "cell_type": "markdown",
   "id": "a673cabd-e7d1-4556-8a26-6615311c92a3",
   "metadata": {},
   "source": [
    "**Exception handling**"
   ]
  },
  {
   "cell_type": "markdown",
   "id": "ea6d12cd-29c5-4cad-8f47-48d97de6dc7d",
   "metadata": {},
   "source": [
    "File not found"
   ]
  },
  {
   "cell_type": "code",
   "execution_count": 498,
   "id": "5e090ec8-85c7-44ee-8f2e-42479b243b5c",
   "metadata": {},
   "outputs": [
    {
     "name": "stdout",
     "output_type": "stream",
     "text": [
      "The specified file cannot be acceses\n"
     ]
    }
   ],
   "source": [
    "try:\n",
    "    with open(\"Hello.txt\",'r') as fd:\n",
    "        fd.read()\n",
    "except FileNotFoundError:\n",
    "    print(\"The specified file cannot be acceses\")\n"
   ]
  },
  {
   "cell_type": "markdown",
   "id": "e2deb9ef-2ac6-49c5-94f3-f0f0f4d5137f",
   "metadata": {},
   "source": [
    "Div by Zero"
   ]
  },
  {
   "cell_type": "code",
   "execution_count": 507,
   "id": "67a02be8-38b7-43e4-96a1-34f0ad760e06",
   "metadata": {},
   "outputs": [
    {
     "name": "stdout",
     "output_type": "stream",
     "text": [
      "Cannot devide by 0\n"
     ]
    }
   ],
   "source": [
    "try: \n",
    "    10/0\n",
    "except ZeroDivisionError :\n",
    "    print(\"Cannot devide by 0\")"
   ]
  },
  {
   "cell_type": "markdown",
   "id": "1bf88504-475e-449e-8ebe-db5a43d503b7",
   "metadata": {},
   "source": [
    "try,except,else,finally"
   ]
  },
  {
   "cell_type": "code",
   "execution_count": 540,
   "id": "83f9351b-7955-4ebf-be37-d84ca1855352",
   "metadata": {},
   "outputs": [
    {
     "name": "stdin",
     "output_type": "stream",
     "text": [
      "Enter a integer a\n"
     ]
    },
    {
     "name": "stdout",
     "output_type": "stream",
     "text": [
      "Enterd value is not a integer\n",
      "This will always run\n"
     ]
    }
   ],
   "source": [
    "try:\n",
    "    a=int(input(\"Enter a integer\"))\n",
    "except ValueError                                :\n",
    "    print(\"Enterd value is not a integer\")\n",
    "else:\n",
    "    print(\"The Input is valid\")\n",
    "finally:\n",
    "    print(\"This will always run\")\n",
    "    "
   ]
  },
  {
   "cell_type": "code",
   "execution_count": null,
   "id": "6de7fb96-c85c-473d-acef-0ca24b9af7ba",
   "metadata": {},
   "outputs": [],
   "source": [
    "**CSV file**"
   ]
  },
  {
   "cell_type": "code",
   "execution_count": null,
   "id": "2803b68b-c818-460b-98f3-f193317f1f78",
   "metadata": {},
   "outputs": [],
   "source": [
    "Creating and opening a CSV file"
   ]
  },
  {
   "cell_type": "code",
   "execution_count": 550,
   "id": "afc6872e-2bee-4dad-93f5-c52159088a88",
   "metadata": {},
   "outputs": [
    {
     "name": "stdout",
     "output_type": "stream",
     "text": [
      "Hello World,1\n",
      "Hello World,2\n",
      "Hello World,3\n",
      "Hello World,4\n",
      "Hello World,5\n",
      "Hello World,6\n",
      "Hello World,7\n",
      "Hello World,8\n",
      "\n"
     ]
    }
   ],
   "source": [
    "with open(\"Book1.csv\",'r') as fd:\n",
    "    print(fd.read())"
   ]
  },
  {
   "cell_type": "markdown",
   "id": "d9c43778-c598-4a5e-8c24-9bc68c66c922",
   "metadata": {},
   "source": [
    "Reverse contents of a file"
   ]
  },
  {
   "cell_type": "code",
   "execution_count": 564,
   "id": "a3e0920e-15c1-451c-920c-47f7c8d6c2ab",
   "metadata": {},
   "outputs": [
    {
     "name": "stdout",
     "output_type": "stream",
     "text": [
      "Original file contents : \n",
      "Hello World,1\n",
      "Hello World,2\n",
      "Hello World,3\n",
      "Hello World,4\n",
      "Hello World,5\n",
      "Hello World,6\n",
      "Hello World,7\n",
      "Hello World,8\n",
      "\n",
      "reversed file contents : \n",
      " \n",
      "8,dlroW olleH\n",
      "7,dlroW olleH\n",
      "6,dlroW olleH\n",
      "5,dlroW olleH\n",
      "4,dlroW olleH\n",
      "3,dlroW olleH\n",
      "2,dlroW olleH\n",
      "1,dlroW olleH\n"
     ]
    }
   ],
   "source": [
    "with open(\"Book1.csv\",'r') as fd:\n",
    "    file=fd.read()\n",
    "print(f\"Original file contents : \\n{file}\")\n",
    "print(f\"reversed file contents : \\n {file[::-1]}\")"
   ]
  },
  {
   "cell_type": "markdown",
   "id": "b3b2d01e-a191-4054-a5d8-c3a1c573f95a",
   "metadata": {},
   "source": [
    "Copy file contents"
   ]
  },
  {
   "cell_type": "code",
   "execution_count": 576,
   "id": "281c3b46-fa3c-406e-8eb4-8106ce07ed82",
   "metadata": {},
   "outputs": [
    {
     "name": "stdout",
     "output_type": "stream",
     "text": [
      "Contents copied succesfully\n",
      "File 1 : \n",
      "Hello World,1\n",
      "Hello World,2\n",
      "Hello World,3\n",
      "Hello World,4\n",
      "Hello World,5\n",
      "Hello World,6\n",
      "Hello World,7\n",
      "Hello World,8\n",
      "\n",
      "File 2 : \n",
      "Hello World,1\n",
      "Hello World,2\n",
      "Hello World,3\n",
      "Hello World,4\n",
      "Hello World,5\n",
      "Hello World,6\n",
      "Hello World,7\n",
      "Hello World,8\n",
      "\n"
     ]
    }
   ],
   "source": [
    "with open(\"Book1.csv\",'r') as fd:\n",
    "    file=fd.read()\n",
    "with open(\"Book2.csv\",'w') as fd:\n",
    "    fd.write(file)\n",
    "print(\"Contents copied succesfully\")\n",
    "print(f\"File 1 : \\n{file}\")\n",
    "with open(\"Book2.csv\",'r') as fd:\n",
    "    print(f\"File 2 : \\n{fd.read()}\")"
   ]
  },
  {
   "cell_type": "markdown",
   "id": "98805515-c2d3-4e25-b589-79df96e9040b",
   "metadata": {},
   "source": [
    "Read file and count vowels"
   ]
  },
  {
   "cell_type": "code",
   "execution_count": null,
   "id": "13323da9-4b01-4717-8ddd-ab8509d61035",
   "metadata": {},
   "outputs": [],
   "source": []
  }
 ],
 "metadata": {
  "kernelspec": {
   "display_name": "Python 3 (ipykernel)",
   "language": "python",
   "name": "python3"
  },
  "language_info": {
   "codemirror_mode": {
    "name": "ipython",
    "version": 3
   },
   "file_extension": ".py",
   "mimetype": "text/x-python",
   "name": "python",
   "nbconvert_exporter": "python",
   "pygments_lexer": "ipython3",
   "version": "3.12.7"
  }
 },
 "nbformat": 4,
 "nbformat_minor": 5
}
