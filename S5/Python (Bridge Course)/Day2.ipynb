{
 "cells": [
  {
   "cell_type": "markdown",
   "id": "50a53358-4369-4afb-a359-fc7c50f3cad3",
   "metadata": {},
   "source": [
    "**Data Types (Strings,List,Tuples)**"
   ]
  },
  {
   "cell_type": "markdown",
   "id": "778f55c5-238f-416a-93f4-7088e3508d6a",
   "metadata": {},
   "source": [
    "String length"
   ]
  },
  {
   "cell_type": "code",
   "execution_count": 3,
   "id": "b8047d05-4482-4980-9051-cb9318931e3d",
   "metadata": {},
   "outputs": [
    {
     "name": "stdin",
     "output_type": "stream",
     "text": [
      "Enter a string  abc\n"
     ]
    },
    {
     "name": "stdout",
     "output_type": "stream",
     "text": [
      "The lenght of abc is 3\n"
     ]
    }
   ],
   "source": [
    "a= input(\"Enter a string \")\n",
    "print(f\"The lenght of {a} is {len(a)}\")"
   ]
  },
  {
   "cell_type": "markdown",
   "id": "26b48dd2-21d7-4baf-a6a7-00e0f638b27a",
   "metadata": {},
   "source": [
    "Count vowels and Consonants"
   ]
  },
  {
   "cell_type": "code",
   "execution_count": 19,
   "id": "f3b26a8b-6fae-46d8-a668-3dd24130e5d0",
   "metadata": {},
   "outputs": [
    {
     "name": "stdin",
     "output_type": "stream",
     "text": [
      "Enter a string hello\n"
     ]
    },
    {
     "name": "stdout",
     "output_type": "stream",
     "text": [
      "The number of vowels in hello is 2\n",
      "The number of consonents in hello is 3\n"
     ]
    }
   ],
   "source": [
    "a= input(\"Enter a string\")\n",
    "v,u = 0,0\n",
    "for c in a:\n",
    "    if (c >='a' and c<= 'z' or c >='A' and c<='Z'):\n",
    "        if c in ('a','e','i','o','u','A','E','I','O','U'):\n",
    "            v+= 1\n",
    "        else:\n",
    "            u+= 1\n",
    "print(f\"The number of vowels in {a} is {v}\")\n",
    "print(f\"The number of consonents in {a} is {u}\")"
   ]
  },
  {
   "cell_type": "markdown",
   "id": "94e6062e-61fe-4434-a7d4-66b84506ebea",
   "metadata": {},
   "source": [
    "Reverse a String"
   ]
  },
  {
   "cell_type": "code",
   "execution_count": 23,
   "id": "d3a3ec28-b8a4-4f5a-b6da-f9334c243e1a",
   "metadata": {},
   "outputs": [
    {
     "name": "stdin",
     "output_type": "stream",
     "text": [
      "Enter a string hello\n"
     ]
    },
    {
     "name": "stdout",
     "output_type": "stream",
     "text": [
      "Reverse of hello is olleh\n"
     ]
    }
   ],
   "source": [
    "a= input(\"Enter a string\")\n",
    "print(f\"Reverse of {a} is {a[::-1]}\")\n"
   ]
  },
  {
   "cell_type": "markdown",
   "id": "9a6e224f-e32a-493c-b823-3423ce0e5f2b",
   "metadata": {},
   "source": [
    "Palindrome "
   ]
  },
  {
   "cell_type": "code",
   "execution_count": 35,
   "id": "429271e2-812b-4046-bd8b-26dc74f4016a",
   "metadata": {},
   "outputs": [
    {
     "name": "stdin",
     "output_type": "stream",
     "text": [
      "Enter a string hello\n"
     ]
    },
    {
     "name": "stdout",
     "output_type": "stream",
     "text": [
      "Reverse of hello is olleh\n",
      "The string is not a palindrome\n"
     ]
    }
   ],
   "source": [
    "a= input(\"Enter a string\")\n",
    "b=a[::-1]\n",
    "print(f\"Reverse of {a} is {b}\")\n",
    "if(a==b):\n",
    "    print(\"The String is a palindrome\")\n",
    "else:\n",
    "    print(\"The string is not a palindrome\")"
   ]
  },
  {
   "cell_type": "markdown",
   "id": "5e8577e0-9dd3-4a83-81d0-c44e958aaff7",
   "metadata": {},
   "source": [
    "Merge two lists"
   ]
  },
  {
   "cell_type": "code",
   "execution_count": 49,
   "id": "2c4aaadd-1c89-44f7-ad51-9c043fa4b82a",
   "metadata": {},
   "outputs": [
    {
     "name": "stdin",
     "output_type": "stream",
     "text": [
      "Enter first list (Space seperated) 1 2 3 \n",
      "Enter second list (Space seperated) 2 3 \n"
     ]
    },
    {
     "name": "stdout",
     "output_type": "stream",
     "text": [
      "First list : ['1', '2', '3']\n",
      "Second list :['2', '3'] \n",
      "Concanated list['1', '2', '3', '2', '3']\n"
     ]
    }
   ],
   "source": [
    "a = input(\"Enter first list (Space seperated)\").split()\n",
    "b = input(\"Enter second list (Space seperated)\").split()\n",
    "print(f\"First list : {a}\\nSecond list :{b} \\nConcanated list{a+b}\")"
   ]
  },
  {
   "cell_type": "markdown",
   "id": "09b1acff-829c-4275-8dad-f1fe7ab2d06a",
   "metadata": {},
   "source": [
    "Remove duplicates "
   ]
  },
  {
   "cell_type": "code",
   "execution_count": 57,
   "id": "03e19675-4969-4cef-9d3f-acaf482a0fd8",
   "metadata": {},
   "outputs": [
    {
     "name": "stdin",
     "output_type": "stream",
     "text": [
      "Enter first list (Space seperated) 1 2 2 3 \n"
     ]
    },
    {
     "name": "stdout",
     "output_type": "stream",
     "text": [
      "The input Without Duplicates {'1', '3', '2'}\n"
     ]
    }
   ],
   "source": [
    "a = input(\"Enter first list (Space seperated)\").split()\n",
    "print(f\"The input Without Duplicates {(set(a))}\")"
   ]
  },
  {
   "cell_type": "markdown",
   "id": "2f62bac4-e978-4746-82bb-c0797b334532",
   "metadata": {},
   "source": [
    "Max, Min from list"
   ]
  },
  {
   "cell_type": "code",
   "execution_count": 93,
   "id": "d0973f48-506d-46de-9a77-6b736b8237fa",
   "metadata": {},
   "outputs": [
    {
     "name": "stdin",
     "output_type": "stream",
     "text": [
      "Enter a list of integers (Space Sepertaed) 1 2 3\n"
     ]
    },
    {
     "name": "stdout",
     "output_type": "stream",
     "text": [
      "Max from [1, 2, 3] is 3 \n",
      "Min from [1, 2, 3] is 1 \n"
     ]
    }
   ],
   "source": [
    "a = input(\"Enter a list of integers (Space Sepertaed)\").split()\n",
    "al= list(map(int,a))\n",
    "print(f\"Max from {al} is {max(al)} \\nMin from {al} is {min(al)} \")"
   ]
  },
  {
   "cell_type": "markdown",
   "id": "792b081e-cd12-443c-8990-41197be4ed5b",
   "metadata": {},
   "source": [
    "Sum of elements in a list"
   ]
  },
  {
   "cell_type": "code",
   "execution_count": 95,
   "id": "f88f630d-417a-45b7-a814-f1cd2f3d5333",
   "metadata": {},
   "outputs": [
    {
     "name": "stdin",
     "output_type": "stream",
     "text": [
      "Enter a list of integers (Space Sepertaed) 1 2 3\n"
     ]
    },
    {
     "name": "stdout",
     "output_type": "stream",
     "text": [
      "sum of elements of [1, 2, 3] is 6\n"
     ]
    }
   ],
   "source": [
    "a = input(\"Enter a list of integers (Space Sepertaed)\").split()\n",
    "al= list(map(int,a))\n",
    "print(f\"sum of elements of {al} is {sum(al)}\")"
   ]
  },
  {
   "cell_type": "markdown",
   "id": "0ff404e7-f254-43eb-8f9f-d6853ab8f586",
   "metadata": {},
   "source": [
    "Find index"
   ]
  },
  {
   "cell_type": "code",
   "execution_count": 111,
   "id": "513aaa8e-a44d-49a9-837d-7988a49188d4",
   "metadata": {},
   "outputs": [
    {
     "name": "stdin",
     "output_type": "stream",
     "text": [
      "Enter a list (Space seperated) 1 2 3\n",
      "Enter the element to be searched for 2\n"
     ]
    },
    {
     "name": "stdout",
     "output_type": "stream",
     "text": [
      "Index of 2 in ['1', '2', '3'] is 1\n"
     ]
    }
   ],
   "source": [
    "a = input(\"Enter a list (Space seperated)\").split()\n",
    "b = str(input(\"Enter the element to be searched for\"))\n",
    "if(b in a):\n",
    "    print(f\"Index of {b} in {a} is {a.index(b)}\")\n",
    "else:\n",
    "    print(f\"The list {a} doesnt contain the element {b}\")"
   ]
  },
  {
   "cell_type": "markdown",
   "id": "ed28e8d2-ff3a-42eb-b7d2-3e0555ec277d",
   "metadata": {},
   "source": [
    "Sort list"
   ]
  },
  {
   "cell_type": "code",
   "execution_count": 137,
   "id": "961b335f-ac08-48b6-98a6-4711e56e2d35",
   "metadata": {},
   "outputs": [
    {
     "name": "stdin",
     "output_type": "stream",
     "text": [
      "Enter a list (Space seperated) 3 2 1\n"
     ]
    },
    {
     "name": "stdout",
     "output_type": "stream",
     "text": [
      "Unsorted list [3, 2, 1] \n",
      "Sorted list [1, 2, 3]\n"
     ]
    }
   ],
   "source": [
    "a = list(map(int,input(\"Enter a list (Space seperated)\").split()))\n",
    "b = sorted(a)\n",
    "print(f\"Unsorted list {a} \\nSorted list {b}\")"
   ]
  },
  {
   "cell_type": "markdown",
   "id": "ed798b9d-5026-4207-943c-e7ca5cdeebdc",
   "metadata": {},
   "source": [
    "Check if two strings are anagrams"
   ]
  },
  {
   "cell_type": "code",
   "execution_count": 177,
   "id": "801871d7-249e-4977-beb8-4e0647d18eca",
   "metadata": {},
   "outputs": [
    {
     "name": "stdin",
     "output_type": "stream",
     "text": [
      "Enter the first string ab\n",
      "Enter the Second string bab\n"
     ]
    },
    {
     "name": "stdout",
     "output_type": "stream",
     "text": [
      "The given strings are not Anagrams\n"
     ]
    }
   ],
   "source": [
    "a= input(\"Enter the first string\")\n",
    "b= input(\"Enter the Second string\")\n",
    "s=list(a)\n",
    "count = 0\n",
    "for c in b:\n",
    "    if c in s:\n",
    "        count+= 1\n",
    "        s.remove(c)\n",
    "if(count == len(b)):\n",
    "    print(\"The given strings are Anagrams\")\n",
    "else:\n",
    "    print(\"The given strings are not Anagrams\")"
   ]
  },
  {
   "cell_type": "markdown",
   "id": "62cd545d-fcaf-4e52-84b7-df3feb60265c",
   "metadata": {},
   "source": [
    "Delete specific element from the list"
   ]
  },
  {
   "cell_type": "code",
   "execution_count": 167,
   "id": "bddd7233-d038-479c-a61d-64dde7dc0f53",
   "metadata": {},
   "outputs": [
    {
     "name": "stdin",
     "output_type": "stream",
     "text": [
      "Enter a list (Space seperated) 1 2 3\n",
      "Enter the element to be Deleted 2\n"
     ]
    },
    {
     "name": "stdout",
     "output_type": "stream",
     "text": [
      "List after Deletion is ['1', '3']\n"
     ]
    }
   ],
   "source": [
    "a = input(\"Enter a list (Space seperated)\").split()\n",
    "b = str(input(\"Enter the element to be Deleted\"))\n",
    "if(b in a):\n",
    "    a.remove(b)\n",
    "    print(f\"List after Deletion is {a}\")\n",
    "else:\n",
    "    print(f\"The list {a} doesnt contain the element {b}\")"
   ]
  },
  {
   "cell_type": "markdown",
   "id": "a13498c4-4ad6-401d-9aa2-98582bae5adc",
   "metadata": {},
   "source": [
    "Second largest element"
   ]
  },
  {
   "cell_type": "code",
   "execution_count": 181,
   "id": "c29dfe2c-b625-4026-9e80-a9be868d20b1",
   "metadata": {},
   "outputs": [
    {
     "name": "stdin",
     "output_type": "stream",
     "text": [
      "Enter a list (Space seperated) 1 2 3\n"
     ]
    },
    {
     "name": "stdout",
     "output_type": "stream",
     "text": [
      "Second largest element in [1, 2, 3] is 2 \n"
     ]
    }
   ],
   "source": [
    "a = list(map(int,input(\"Enter a list (Space seperated)\").split()))\n",
    "b = sorted(a)\n",
    "print(f\"Second largest element in {a} is {b[-2]} \")"
   ]
  },
  {
   "cell_type": "markdown",
   "id": "c62122a9-f9e7-4d6d-affe-fe1509561443",
   "metadata": {},
   "source": []
  }
 ],
 "metadata": {
  "kernelspec": {
   "display_name": "Python 3 (ipykernel)",
   "language": "python",
   "name": "python3"
  },
  "language_info": {
   "codemirror_mode": {
    "name": "ipython",
    "version": 3
   },
   "file_extension": ".py",
   "mimetype": "text/x-python",
   "name": "python",
   "nbconvert_exporter": "python",
   "pygments_lexer": "ipython3",
   "version": "3.12.7"
  }
 },
 "nbformat": 4,
 "nbformat_minor": 5
}
